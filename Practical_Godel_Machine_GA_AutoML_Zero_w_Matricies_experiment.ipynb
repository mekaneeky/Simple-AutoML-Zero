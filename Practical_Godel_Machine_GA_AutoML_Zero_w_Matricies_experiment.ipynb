{
  "cells": [
    {
      "cell_type": "code",
      "execution_count": null,
      "metadata": {
        "id": "0dgKPHvqCITB"
      },
      "outputs": [],
      "source": [
        "import numpy as np\n",
        "\n",
        "def sigmoid(x):\n",
        "     return 1 /(1 + 1 / np.exp(x))\n",
        "\n",
        "def leaky_relu(x, alpha):\n",
        "    return np.where(x > 0, x, x * alpha)\n",
        "\n",
        "def relu(x):\n",
        "    x[x<0] =0\n",
        "    return x\n",
        "\n",
        "def stable_softmax(x):\n",
        "    z = x - np.max(x)\n",
        "    numerator = np.exp(z)\n",
        "    denominator = np.sum(numerator)\n",
        "    softmax = numerator/denominator\n",
        "\n",
        "    return softmax\n"
      ]
    },
    {
      "cell_type": "code",
      "execution_count": null,
      "metadata": {
        "id": "DJ0ePzGU54HO"
      },
      "outputs": [],
      "source": [
        "\n",
        "ops_basic = [np.add, np.subtract, np.multiply, np.divide, \\\n",
        "             np.abs, np.reciprocal, \\\n",
        "             np.sin, np.cos, np.tan, np.arcsin, np.arccos, np.arctan, \\\n",
        "             np.exp, np.log, np.heaviside, np.linalg.norm, \\\n",
        "             np.dot, np.matmul, np.transpose, np.min, np.max, np.mean, \\\n",
        "             np.std, np.put, np.sum, \\\n",
        "             np.random.uniform, np.random.normal, \\\n",
        "             np.convolve, sigmoid, leaky_relu, stable_softmax ] \n",
        "\n",
        "             # TODO assign scalar, assign in position\n",
        "             #matmul needs a special operation rand1 , rand_same * rand_same , rand2\n",
        "\n",
        "OP_ARR = np.array(ops_basic)    \n",
        "OP_COUNT = np.zeros(shape = (len(ops_basic)))\n",
        "\n",
        "\n",
        "\n",
        "BASIC_ARITHMETIC = (-100,100,-100,100) #(lower_bound_1, upper_bound_1, lower_bound_2, upper_bound_2)\n",
        "#REFLEXIVE = \n",
        "\n",
        "\"\"\"\n",
        "ops_manual = [BASIC_ARITHMETIC, BASIC_ARITHMETIC, BASIC_ARITHMETIC, BASIC_ARITHMETIC, \\ #add to divide\n",
        "              1, 1, \\ #abs reciprocal\n",
        "              1, 1, 1, 1, 1, 1 \\ #sin to arctan\n",
        "              1, 1, 1, 1, #exp to norm\n",
        "              2, 2#matmul, 1, 1, 1, 1, \\ #dot to mean\n",
        "              1, #put, 1, # std put sum\n",
        "              size, size\n",
        "               #convolve, 1, 1, 1 # conv to softmax\n",
        "              ]\n",
        "\"\"\"\n",
        "\n",
        "PARAMETER_REGISTER_SIZE = 5\n",
        "LEARNED_CONSTS = []\n",
        "\n",
        "\n",
        "# I can have another op sized arr or better yet (since this is too restrictive)\n",
        "#\n",
        "#edit func_defaults\n",
        "#for axis = 0/1 and simmilar things might need a deepcopy first\n"
      ]
    },
    {
      "cell_type": "code",
      "execution_count": null,
      "metadata": {
        "id": "mEC8qHPpCY1d"
      },
      "outputs": [],
      "source": [
        "import numpy as np\n",
        "\n",
        "beta = 0.05\n",
        "\n",
        "def _rescale_gaussian(gauss_arr, min_val = -100, max_val=100, normal_max=4, normal_min=-4):\n",
        "    gauss_arr = (( (gauss_arr-normal_min)     \\\n",
        "                 /(normal_max-normal_min ))  \\\n",
        "                * (max_val- (min_val))) + min_val\n",
        "    return gauss_arr\n",
        "\n",
        "\n",
        "initial_gaussian = np.random.normal(loc=0.0,scale=1.0,size=(3,3))\n",
        "update_initial = initial_gaussian + beta * np.random.normal(scale=0,loc=1,size=(3,3))\n",
        "rescaled_gaussian = _rescale_gaussian(update_initial,min_val=0,max_val=1)\n",
        "presented_gaussian_2 = np.round(rescaled_gaussian)\n",
        "## Should this be a binary bit operation "
      ]
    },
    {
      "cell_type": "code",
      "execution_count": null,
      "metadata": {
        "id": "cqiRnETY_NVe"
      },
      "outputs": [],
      "source": [
        "import pandas as pd\n",
        "import numpy as np\n",
        "from numba import jit, njit\n",
        "\n",
        "#OP_depth = 10\n",
        "\n",
        "## Creating OP Vectors\n",
        "#print(OP_vector)\n",
        "@jit\n",
        "def do_nothing(x):\n",
        "    return x\n",
        "\n",
        "OP_dict = {0:(np.add,2), \n",
        "           1:(np.subtract,2),\n",
        "           2:(np.multiply,2),\n",
        "           3:(np.divide,2),\n",
        "           4:(np.abs,1), \n",
        "           5:(np.reciprocal,1),\n",
        "           6:(np.sin,1), \n",
        "           7:(np.cos,1), \n",
        "           8:(np.tan,1),\n",
        "           9:(np.log,1),\n",
        "           10:(do_nothing,1)}\n",
        "\n",
        "\n",
        "#OP_vector = np.random.randint(0,len(OP_dict), size=(OP_depth + 1,1))\n",
        "\n",
        "def _rescale_gaussian(gauss_arr, min_val = -100, max_val=100, normal_max=4, normal_min=-4):\n",
        "    gauss_arr = (( (gauss_arr-normal_min)     \\\n",
        "                 /(normal_max-normal_min ))  \\\n",
        "                * (max_val- (min_val))) + min_val\n",
        "    return gauss_arr\n",
        "\n",
        "def initialize_memory(memory_size = 3, element_type = \"scalar\", matrix_size= (2,2), start=-2, end=2):\n",
        "    \"\"\"\n",
        "        weight_type: int or float, specifies whether to \n",
        "    \"\"\"    \n",
        "    if element_type == \"scalar\":\n",
        "        #random_args = np.random.normal(loc=0 , scale=1, size=(memory_size,) )\n",
        "        random_args = np.random.uniform(-100,100, size=(memory_size,)) \n",
        "    elif element_type == \"vector\":\n",
        "        random_args = np.random.normal(loc=0 , scale=1, size=(memory_size,matrix_size[0]) )\n",
        "\n",
        "    elif element_type == \"matrix\":\n",
        "        random_args = np.random.normal(loc=0 , scale=1, size=(memory_size,matrix_size[0],matrix_size[1]) )\n",
        "\n",
        "    return random_args\n",
        "\n"
      ]
    },
    {
      "cell_type": "code",
      "execution_count": null,
      "metadata": {
        "id": "R3alCL2nDHO5"
      },
      "outputs": [],
      "source": [
        "def update_genome(old_genome, beta = 0.05):\n",
        "    updated_genome = old_genome + beta * np.random.normal(scale=1,loc=0,size=old_genome.shape)\n",
        "    return updated_genome\n",
        "\n"
      ]
    },
    {
      "cell_type": "code",
      "execution_count": null,
      "metadata": {
        "id": "IAPoSRB6I-xn"
      },
      "outputs": [],
      "source": [
        "from random import choice, randint, sample\n",
        "from copy import deepcopy\n",
        "from tqdm import tqdm\n",
        "## \n",
        "\n",
        "MAXIMUM_ARGUMENT_LENGTH = 2\n",
        "INPUT_SIZE = 1\n",
        "MEMORY_SIZE = 5 + INPUT_SIZE\n",
        "POPULATION_COUNT = 100\n",
        "def initialialize_population(X_arr, y_true= None, fitness_func= None, population_count = POPULATION_COUNT, op_depth = None, memory_size = MEMORY_SIZE , OP_dict = OP_dict,max_arg = 2):\n",
        "    genes_list = []\n",
        "    for _ in range(population_count):\n",
        "        memory_arr = initialize_memory(memory_size = MEMORY_SIZE, element_type = \"scalar\", matrix_size= (2,2), start=-10, end=10)\n",
        "        OP_gene = np.random.randint(0,len(OP_dict), size=(OP_DEPTH,1))\n",
        "        arg_locations = np.random.randint(0, len(memory_arr),size=(OP_DEPTH, max_arg)).astype(int)\n",
        "        output_locations = np.random.randint(0, len(memory_arr) ,size=(OP_DEPTH, 1)).astype(int)\n",
        "        \n",
        "        preds = resolve_genome(X_arr,OP_gene, memory_arr, arg_locations, output_locations, OP_dict  )\n",
        "        fitness = fitness_func(preds, y_true)\n",
        "\n",
        "        genes_list.append( (fitness,(OP_gene, memory_arr, arg_locations, output_locations )  ) )\n",
        "    return genes_list\n",
        "\n",
        "\n",
        "def initialize_memory(memory_size = 3, element_type = \"scalar\", matrix_size= (2,2), start=-2, end=2):\n",
        "    \"\"\"\n",
        "        weight_type: int or float, specifies whether to \n",
        "    \"\"\"    \n",
        "    if element_type == \"scalar\":\n",
        "        #random_args = np.random.normal(loc=0 , scale=1, size=(memory_size,) )\n",
        "        random_args = np.random.uniform(-100,100, size=(memory_size,)) \n",
        "    elif element_type == \"vector\":\n",
        "        random_args = np.random.normal(loc=0 , scale=1, size=(memory_size,matrix_size[0]) )\n",
        "\n",
        "    elif element_type == \"matrix\":\n",
        "        random_args = np.random.normal(loc=0 , scale=1, size=(memory_size,matrix_size[0],matrix_size[1]) )\n",
        "\n",
        "\n",
        "    #random_args = _rescale_gaussian(random_args, min_val=start, max_val=end)\n",
        "    return random_args\n",
        "\n",
        "def _mutate_all(winner):\n",
        "    _, (OP_gene, memory_arr, arg_locations, output_locations) = winner\n",
        "\n",
        "    memory_arr = initialize_memory(memory_size = MEMORY_SIZE, element_type = \"scalar\", matrix_size= (2,2), start=-10, end=10)\n",
        "    OP_gene = np.random.randint(0,len(OP_dict), size=(OP_DEPTH,1))\n",
        "    arg_locations = np.random.randint(0, len(memory_arr),size=(arg_locations.shape)).astype(int)\n",
        "    output_locations = np.random.randint(0, len(memory_arr) ,size=(output_locations.shape)).astype(int)\n",
        "\n",
        "    return (-9999, (OP_gene, memory_arr, arg_locations, output_locations))\n",
        "\n",
        "def _mutate_add_or_remove_one_instruction(winner):\n",
        "    _, (OP_gene, memory_arr, arg_locations, output_locations) = deepcopy(winner)\n",
        "\n",
        "    instruction_idx = np.random.randint(0,OP_DEPTH, size=(1) )[0]\n",
        "\n",
        "    OP_gene[instruction_idx] = np.random.randint(0,len(OP_dict), size=OP_gene[instruction_idx].shape)\n",
        "    arg_locations[instruction_idx] = np.random.randint(0, len(memory_arr),size=arg_locations[instruction_idx].shape).astype(int)\n",
        "    output_locations[instruction_idx] = np.random.randint(0, len(memory_arr),size=output_locations[instruction_idx].shape).astype(int)\n",
        "\n",
        "    return (-9999, (OP_gene, memory_arr, arg_locations, output_locations))\n",
        "\n",
        "def _mutate_one_argument(winner):\n",
        "    _, (OP_gene, memory_arr, arg_locations, output_locations) = deepcopy(winner)\n",
        "\n",
        "    instruction_idx = np.random.randint(0,OP_DEPTH, size=(1))[0]\n",
        "\n",
        "    if np.random.random() > 0.5:\n",
        "        argument_idx = np.random.randint(0,arg_locations[instruction_idx].shape[0], size=(1))[0]\n",
        "        arg_locations[instruction_idx,argument_idx] = np.random.randint(0, len(memory_arr),size=(1)).astype(int)\n",
        "    else:\n",
        "        output_locations[instruction_idx] = np.random.randint(0, len(memory_arr),size=output_locations[instruction_idx].shape).astype(int)\n",
        "\n",
        "    return (-9999, (OP_gene, memory_arr, arg_locations, output_locations))    \n",
        "\n",
        "\n",
        "def mutate_winner(winner):\n",
        "\n",
        "    mutations = [_mutate_one_argument, _mutate_all,  _mutate_add_or_remove_one_instruction ]\n",
        "    mutation_function = choice(mutations)\n",
        "    return mutation_function(winner)\n",
        "\n",
        "def run_tournament(contestants):\n",
        "    min_fitness = float(\"inf\")\n",
        "    for idx in range(len(contestants)):\n",
        "        if contestants[idx][0] < min_fitness:\n",
        "            min_fitness = contestants[idx][0]\n",
        "            min_idx = idx\n",
        "    tournament_winner = contestants[min_idx]\n",
        "    return tournament_winner\n",
        "\n",
        "\n",
        "\n",
        "## TODO this can be vectorized\n",
        "def run_evolution(X_arr, true_y, iters = 100000,fitness_func = None, reward_to_gene_list = None, N=10, population = POPULATION_COUNT, beta=0.05):\n",
        "    \n",
        "    #reward_to_gene_list = sorted(reward_to_gene_list, key=itemgetter(0), reverse=True )\n",
        "    \n",
        "    for i in tqdm(range(iters)):   \n",
        "        \n",
        "        min_fitness = float(\"inf\")\n",
        "        if i%10000 == 0:\n",
        "            for fitness, (_,_,_,_) in reward_to_gene_list:\n",
        "                if min_fitness > fitness:\n",
        "                    min_fitness = fitness\n",
        "            print(\"BEST FITNESS TO DATE: {}\".format(min_fitness))\n",
        "\n",
        "        contestants = sample(reward_to_gene_list, N)\n",
        "        tournament_winner = run_tournament(contestants)\n",
        "        fitness, (OP_gene,memory_arr, args_gene, out_gene) = tournament_winner\n",
        "        new_child = mutate_winner(tournament_winner)\n",
        "        preds = resolve_genome(X_arr,new_child[1][0], new_child[1][1], new_child[1][2], new_child[1][3], OP_dict  )\n",
        "        fitness = fitness_func(preds, true_y)\n",
        "\n",
        "        reward_to_gene_list.append(( fitness, (new_child[1][0], new_child[1][1], new_child[1][2], new_child[1][3])) )\n",
        "        reward_to_gene_list.pop(0)\n",
        "        \n",
        "        \n",
        "    return reward_to_gene_list"
      ]
    },
    {
      "cell_type": "code",
      "execution_count": null,
      "metadata": {
        "id": "PNlV8DbP33uC"
      },
      "outputs": [],
      "source": [
        "from numba import jit\n",
        "import torch \n",
        "X_arr = np.array([10,22,500,404])\n",
        "memory_arr = initialize_memory(memory_size = 3, element_type = \"scalar\", matrix_size= (2,2), start=-2, end=2)\n",
        "#prev_arr = pick_prev_args()\n",
        "\n",
        "\n",
        "\n",
        "## TODO Might need to add vector and scalar memory later\n",
        "def resolve_genome(X_vals,genome_OPs = None, memory_arr = memory_arr, args_locations= None, output_locations = None ,OP_dict = OP_dict):\n",
        "    final_results_arr = np.empty_like(X_vals).astype(float)\n",
        "    for X_idx in range(len(X_vals)):\n",
        "        memory_arr[1] = X_vals[X_idx]\n",
        "        for gene_idx in range(0,len(genome_OPs)):\n",
        "            \n",
        "            OP_to_apply, max_args = OP_dict[genome_OPs[gene_idx][0]]\n",
        "\n",
        "            ## We get max_args locations in memory + output location in memory\n",
        "\n",
        "            args = memory_arr [ args_locations[gene_idx,:max_args]]\n",
        "            memory_arr[output_locations[gene_idx]] = OP_to_apply(*args)\n",
        "        #try:\n",
        "        final_results_arr[X_idx] = memory_arr[0]\n",
        "        #except ValueError:\n",
        "        #    final_results_arr[X_idx] = -1 # Nan\n",
        "#        except OverflowError:\n",
        "#            final_results_arr[X_idx] = -1 # inf\n",
        "\n",
        "            \n",
        "    return final_results_arr\n",
        "\n"
      ]
    },
    {
      "cell_type": "code",
      "execution_count": null,
      "metadata": {
        "id": "kQrddiLRx-jq"
      },
      "outputs": [],
      "source": [
        ""
      ]
    },
    {
      "cell_type": "code",
      "execution_count": null,
      "metadata": {
        "colab": {
          "base_uri": "https://localhost:8080/"
        },
        "id": "B11N0-xFJRA8",
        "outputId": "f249fe45-ee26-4cc8-c8f3-e90a888d4caf"
      },
      "outputs": [
        {
          "output_type": "stream",
          "name": "stderr",
          "text": [
            "/usr/local/lib/python3.7/dist-packages/ipykernel_launcher.py:21: RuntimeWarning: invalid value encountered in log\n",
            "/usr/local/lib/python3.7/dist-packages/ipykernel_launcher.py:21: RuntimeWarning: divide by zero encountered in log\n",
            "/usr/local/lib/python3.7/dist-packages/ipykernel_launcher.py:21: RuntimeWarning: invalid value encountered in sin\n",
            "/usr/local/lib/python3.7/dist-packages/ipykernel_launcher.py:21: RuntimeWarning: divide by zero encountered in reciprocal\n",
            "/usr/local/lib/python3.7/dist-packages/ipykernel_launcher.py:21: RuntimeWarning: invalid value encountered in subtract\n",
            "/usr/local/lib/python3.7/dist-packages/ipykernel_launcher.py:21: RuntimeWarning: invalid value encountered in true_divide\n",
            "/usr/local/lib/python3.7/dist-packages/ipykernel_launcher.py:21: RuntimeWarning: invalid value encountered in cos\n",
            "/usr/local/lib/python3.7/dist-packages/ipykernel_launcher.py:21: RuntimeWarning: invalid value encountered in add\n",
            "/usr/local/lib/python3.7/dist-packages/ipykernel_launcher.py:21: RuntimeWarning: invalid value encountered in tan\n",
            "/usr/local/lib/python3.7/dist-packages/ipykernel_launcher.py:21: RuntimeWarning: divide by zero encountered in true_divide\n",
            "/usr/local/lib/python3.7/dist-packages/ipykernel_launcher.py:21: RuntimeWarning: overflow encountered in multiply\n",
            "  0%|          | 175/1000000 [00:00<09:34, 1739.35it/s]"
          ]
        },
        {
          "output_type": "stream",
          "name": "stdout",
          "text": [
            "BEST FITNESS TO DATE: 5653651008.921943\n"
          ]
        },
        {
          "output_type": "stream",
          "name": "stderr",
          "text": [
            "  0%|          | 2947/1000000 [00:02<09:21, 1774.85it/s]/usr/local/lib/python3.7/dist-packages/ipykernel_launcher.py:21: RuntimeWarning: invalid value encountered in multiply\n",
            "  1%|          | 10458/1000000 [00:05<06:56, 2376.74it/s]"
          ]
        },
        {
          "output_type": "stream",
          "name": "stdout",
          "text": [
            "BEST FITNESS TO DATE: 3655002514.192061\n"
          ]
        },
        {
          "output_type": "stream",
          "name": "stderr",
          "text": [
            "  2%|▏         | 18149/1000000 [00:09<07:28, 2187.81it/s]/usr/local/lib/python3.7/dist-packages/ipykernel_launcher.py:21: RuntimeWarning: overflow encountered in true_divide\n",
            "  2%|▏         | 20217/1000000 [00:10<07:10, 2274.64it/s]"
          ]
        },
        {
          "output_type": "stream",
          "name": "stdout",
          "text": [
            "BEST FITNESS TO DATE: 1457799528.0020263\n"
          ]
        },
        {
          "output_type": "stream",
          "name": "stderr",
          "text": [
            "  3%|▎         | 30309/1000000 [00:14<06:56, 2329.61it/s]"
          ]
        },
        {
          "output_type": "stream",
          "name": "stdout",
          "text": [
            "BEST FITNESS TO DATE: 1396883114.1216464\n"
          ]
        },
        {
          "output_type": "stream",
          "name": "stderr",
          "text": [
            "  3%|▎         | 31769/1000000 [00:15<06:37, 2438.44it/s]/usr/local/lib/python3.7/dist-packages/ipykernel_launcher.py:21: RuntimeWarning: overflow encountered in reciprocal\n",
            "  4%|▍         | 40416/1000000 [00:19<06:51, 2334.00it/s]"
          ]
        },
        {
          "output_type": "stream",
          "name": "stdout",
          "text": [
            "BEST FITNESS TO DATE: 732515307.6721745\n"
          ]
        },
        {
          "output_type": "stream",
          "name": "stderr",
          "text": [
            "  5%|▌         | 50323/1000000 [00:23<06:47, 2331.97it/s]"
          ]
        },
        {
          "output_type": "stream",
          "name": "stdout",
          "text": [
            "BEST FITNESS TO DATE: 732515307.6721745\n"
          ]
        },
        {
          "output_type": "stream",
          "name": "stderr",
          "text": [
            "  6%|▌         | 60232/1000000 [00:27<07:21, 2127.44it/s]"
          ]
        },
        {
          "output_type": "stream",
          "name": "stdout",
          "text": [
            "BEST FITNESS TO DATE: 732514720.8386207\n"
          ]
        },
        {
          "output_type": "stream",
          "name": "stderr",
          "text": [
            "  7%|▋         | 70459/1000000 [00:32<06:29, 2385.52it/s]"
          ]
        },
        {
          "output_type": "stream",
          "name": "stdout",
          "text": [
            "BEST FITNESS TO DATE: 732515307.6721745\n"
          ]
        },
        {
          "output_type": "stream",
          "name": "stderr",
          "text": [
            "  8%|▊         | 80409/1000000 [00:36<07:15, 2113.50it/s]"
          ]
        },
        {
          "output_type": "stream",
          "name": "stdout",
          "text": [
            "BEST FITNESS TO DATE: 732476721.2309123\n"
          ]
        },
        {
          "output_type": "stream",
          "name": "stderr",
          "text": [
            "  9%|▉         | 90379/1000000 [00:41<06:41, 2263.82it/s]"
          ]
        },
        {
          "output_type": "stream",
          "name": "stdout",
          "text": [
            "BEST FITNESS TO DATE: 732515307.6721745\n"
          ]
        },
        {
          "output_type": "stream",
          "name": "stderr",
          "text": [
            " 10%|█         | 100263/1000000 [00:45<06:25, 2332.55it/s]"
          ]
        },
        {
          "output_type": "stream",
          "name": "stdout",
          "text": [
            "BEST FITNESS TO DATE: 732515307.6721745\n"
          ]
        },
        {
          "output_type": "stream",
          "name": "stderr",
          "text": [
            " 11%|█         | 110410/1000000 [00:49<06:24, 2311.25it/s]"
          ]
        },
        {
          "output_type": "stream",
          "name": "stdout",
          "text": [
            "BEST FITNESS TO DATE: 732513857.8126575\n"
          ]
        },
        {
          "output_type": "stream",
          "name": "stderr",
          "text": [
            " 12%|█▏        | 120258/1000000 [00:54<06:23, 2291.05it/s]"
          ]
        },
        {
          "output_type": "stream",
          "name": "stdout",
          "text": [
            "BEST FITNESS TO DATE: 732515307.6721745\n"
          ]
        },
        {
          "output_type": "stream",
          "name": "stderr",
          "text": [
            " 13%|█▎        | 130337/1000000 [00:58<06:18, 2300.12it/s]"
          ]
        },
        {
          "output_type": "stream",
          "name": "stdout",
          "text": [
            "BEST FITNESS TO DATE: 732514720.8386207\n"
          ]
        },
        {
          "output_type": "stream",
          "name": "stderr",
          "text": [
            " 14%|█▍        | 140267/1000000 [01:03<06:35, 2171.12it/s]"
          ]
        },
        {
          "output_type": "stream",
          "name": "stdout",
          "text": [
            "BEST FITNESS TO DATE: 732515307.6721745\n"
          ]
        },
        {
          "output_type": "stream",
          "name": "stderr",
          "text": [
            " 15%|█▌        | 150297/1000000 [01:07<05:57, 2377.88it/s]"
          ]
        },
        {
          "output_type": "stream",
          "name": "stdout",
          "text": [
            "BEST FITNESS TO DATE: 732515307.6721745\n"
          ]
        },
        {
          "output_type": "stream",
          "name": "stderr",
          "text": [
            " 16%|█▌        | 160334/1000000 [01:11<05:59, 2334.21it/s]"
          ]
        },
        {
          "output_type": "stream",
          "name": "stdout",
          "text": [
            "BEST FITNESS TO DATE: 732515307.6721745\n"
          ]
        },
        {
          "output_type": "stream",
          "name": "stderr",
          "text": [
            " 17%|█▋        | 170260/1000000 [01:16<06:19, 2186.01it/s]"
          ]
        },
        {
          "output_type": "stream",
          "name": "stdout",
          "text": [
            "BEST FITNESS TO DATE: 732515307.6721745\n"
          ]
        },
        {
          "output_type": "stream",
          "name": "stderr",
          "text": [
            " 18%|█▊        | 180244/1000000 [01:20<06:08, 2227.23it/s]"
          ]
        },
        {
          "output_type": "stream",
          "name": "stdout",
          "text": [
            "BEST FITNESS TO DATE: 167179991.72394294\n"
          ]
        },
        {
          "output_type": "stream",
          "name": "stderr",
          "text": [
            " 19%|█▉        | 190275/1000000 [01:24<05:49, 2318.90it/s]"
          ]
        },
        {
          "output_type": "stream",
          "name": "stdout",
          "text": [
            "BEST FITNESS TO DATE: 317576.9739595968\n"
          ]
        },
        {
          "output_type": "stream",
          "name": "stderr",
          "text": [
            " 20%|██        | 200339/1000000 [01:29<05:56, 2241.99it/s]"
          ]
        },
        {
          "output_type": "stream",
          "name": "stdout",
          "text": [
            "BEST FITNESS TO DATE: 279324.8465568619\n"
          ]
        },
        {
          "output_type": "stream",
          "name": "stderr",
          "text": [
            " 21%|██        | 210202/1000000 [01:34<06:12, 2118.37it/s]"
          ]
        },
        {
          "output_type": "stream",
          "name": "stdout",
          "text": [
            "BEST FITNESS TO DATE: 260627.69076783862\n"
          ]
        },
        {
          "output_type": "stream",
          "name": "stderr",
          "text": [
            " 22%|██▏       | 220454/1000000 [01:39<05:35, 2325.42it/s]"
          ]
        },
        {
          "output_type": "stream",
          "name": "stdout",
          "text": [
            "BEST FITNESS TO DATE: 218931.14291050704\n"
          ]
        },
        {
          "output_type": "stream",
          "name": "stderr",
          "text": [
            " 23%|██▎       | 230299/1000000 [01:44<06:36, 1942.09it/s]"
          ]
        },
        {
          "output_type": "stream",
          "name": "stdout",
          "text": [
            "BEST FITNESS TO DATE: 169033.7201230158\n"
          ]
        },
        {
          "output_type": "stream",
          "name": "stderr",
          "text": [
            " 24%|██▍       | 240190/1000000 [01:50<09:04, 1396.03it/s]"
          ]
        },
        {
          "output_type": "stream",
          "name": "stdout",
          "text": [
            "BEST FITNESS TO DATE: 165504.35226658313\n"
          ]
        },
        {
          "output_type": "stream",
          "name": "stderr",
          "text": [
            " 25%|██▌       | 250376/1000000 [01:55<05:41, 2192.93it/s]"
          ]
        },
        {
          "output_type": "stream",
          "name": "stdout",
          "text": [
            "BEST FITNESS TO DATE: 168043.5956248599\n"
          ]
        },
        {
          "output_type": "stream",
          "name": "stderr",
          "text": [
            " 26%|██▌       | 260326/1000000 [01:59<05:27, 2261.74it/s]"
          ]
        },
        {
          "output_type": "stream",
          "name": "stdout",
          "text": [
            "BEST FITNESS TO DATE: 167714.45445752982\n"
          ]
        },
        {
          "output_type": "stream",
          "name": "stderr",
          "text": [
            " 27%|██▋       | 270403/1000000 [02:04<05:31, 2202.15it/s]"
          ]
        },
        {
          "output_type": "stream",
          "name": "stdout",
          "text": [
            "BEST FITNESS TO DATE: 155360.97468731413\n"
          ]
        },
        {
          "output_type": "stream",
          "name": "stderr",
          "text": [
            " 28%|██▊       | 280323/1000000 [02:09<05:32, 2161.60it/s]"
          ]
        },
        {
          "output_type": "stream",
          "name": "stdout",
          "text": [
            "BEST FITNESS TO DATE: 155325.09559362987\n"
          ]
        },
        {
          "output_type": "stream",
          "name": "stderr",
          "text": [
            " 29%|██▉       | 290272/1000000 [02:13<05:08, 2297.87it/s]"
          ]
        },
        {
          "output_type": "stream",
          "name": "stdout",
          "text": [
            "BEST FITNESS TO DATE: 137348.0809399914\n"
          ]
        },
        {
          "output_type": "stream",
          "name": "stderr",
          "text": [
            " 30%|███       | 300272/1000000 [02:18<05:13, 2228.94it/s]"
          ]
        },
        {
          "output_type": "stream",
          "name": "stdout",
          "text": [
            "BEST FITNESS TO DATE: 96610.78547018347\n"
          ]
        },
        {
          "output_type": "stream",
          "name": "stderr",
          "text": [
            " 31%|███       | 310256/1000000 [02:22<05:15, 2186.15it/s]"
          ]
        },
        {
          "output_type": "stream",
          "name": "stdout",
          "text": [
            "BEST FITNESS TO DATE: 128552.14143650653\n"
          ]
        },
        {
          "output_type": "stream",
          "name": "stderr",
          "text": [
            " 32%|███▏      | 320428/1000000 [02:27<05:16, 2150.38it/s]"
          ]
        },
        {
          "output_type": "stream",
          "name": "stdout",
          "text": [
            "BEST FITNESS TO DATE: 127973.19841966173\n"
          ]
        },
        {
          "output_type": "stream",
          "name": "stderr",
          "text": [
            " 33%|███▎      | 330294/1000000 [02:31<05:05, 2194.71it/s]"
          ]
        },
        {
          "output_type": "stream",
          "name": "stdout",
          "text": [
            "BEST FITNESS TO DATE: 92909.01155835716\n"
          ]
        },
        {
          "output_type": "stream",
          "name": "stderr",
          "text": [
            " 34%|███▍      | 340279/1000000 [02:36<04:47, 2297.94it/s]"
          ]
        },
        {
          "output_type": "stream",
          "name": "stdout",
          "text": [
            "BEST FITNESS TO DATE: 128552.14143650653\n"
          ]
        },
        {
          "output_type": "stream",
          "name": "stderr",
          "text": [
            " 35%|███▌      | 350250/1000000 [02:40<04:54, 2202.97it/s]"
          ]
        },
        {
          "output_type": "stream",
          "name": "stdout",
          "text": [
            "BEST FITNESS TO DATE: 128552.14143650653\n"
          ]
        },
        {
          "output_type": "stream",
          "name": "stderr",
          "text": [
            " 36%|███▌      | 360373/1000000 [02:45<04:40, 2283.34it/s]"
          ]
        },
        {
          "output_type": "stream",
          "name": "stdout",
          "text": [
            "BEST FITNESS TO DATE: 92909.01155835716\n"
          ]
        },
        {
          "output_type": "stream",
          "name": "stderr",
          "text": [
            " 37%|███▋      | 370413/1000000 [02:49<04:44, 2210.58it/s]"
          ]
        },
        {
          "output_type": "stream",
          "name": "stdout",
          "text": [
            "BEST FITNESS TO DATE: 92909.01155835716\n"
          ]
        },
        {
          "output_type": "stream",
          "name": "stderr",
          "text": [
            " 38%|███▊      | 380374/1000000 [02:54<04:35, 2246.07it/s]"
          ]
        },
        {
          "output_type": "stream",
          "name": "stdout",
          "text": [
            "BEST FITNESS TO DATE: 92909.01155835716\n"
          ]
        },
        {
          "output_type": "stream",
          "name": "stderr",
          "text": [
            " 39%|███▉      | 390272/1000000 [02:58<04:24, 2304.10it/s]"
          ]
        },
        {
          "output_type": "stream",
          "name": "stdout",
          "text": [
            "BEST FITNESS TO DATE: 92909.01155835716\n"
          ]
        },
        {
          "output_type": "stream",
          "name": "stderr",
          "text": [
            " 40%|████      | 400356/1000000 [03:03<04:34, 2181.38it/s]"
          ]
        },
        {
          "output_type": "stream",
          "name": "stdout",
          "text": [
            "BEST FITNESS TO DATE: 89664.91826538136\n"
          ]
        },
        {
          "output_type": "stream",
          "name": "stderr",
          "text": [
            " 41%|████      | 410214/1000000 [03:07<04:25, 2222.47it/s]"
          ]
        },
        {
          "output_type": "stream",
          "name": "stdout",
          "text": [
            "BEST FITNESS TO DATE: 89664.91826538136\n"
          ]
        },
        {
          "output_type": "stream",
          "name": "stderr",
          "text": [
            " 42%|████▏     | 420265/1000000 [03:12<04:14, 2279.87it/s]"
          ]
        },
        {
          "output_type": "stream",
          "name": "stdout",
          "text": [
            "BEST FITNESS TO DATE: 89664.91826538136\n"
          ]
        },
        {
          "output_type": "stream",
          "name": "stderr",
          "text": [
            " 43%|████▎     | 430403/1000000 [03:17<04:37, 2055.49it/s]"
          ]
        },
        {
          "output_type": "stream",
          "name": "stdout",
          "text": [
            "BEST FITNESS TO DATE: 89664.13982905913\n"
          ]
        },
        {
          "output_type": "stream",
          "name": "stderr",
          "text": [
            " 44%|████▍     | 440246/1000000 [03:21<04:13, 2211.35it/s]"
          ]
        },
        {
          "output_type": "stream",
          "name": "stdout",
          "text": [
            "BEST FITNESS TO DATE: 89664.91826538136\n"
          ]
        },
        {
          "output_type": "stream",
          "name": "stderr",
          "text": [
            " 45%|████▌     | 450437/1000000 [03:26<04:11, 2181.50it/s]"
          ]
        },
        {
          "output_type": "stream",
          "name": "stdout",
          "text": [
            "BEST FITNESS TO DATE: 89664.91826538136\n"
          ]
        },
        {
          "output_type": "stream",
          "name": "stderr",
          "text": [
            " 46%|████▌     | 460360/1000000 [03:31<04:01, 2238.60it/s]"
          ]
        },
        {
          "output_type": "stream",
          "name": "stdout",
          "text": [
            "BEST FITNESS TO DATE: 128275.13275585882\n"
          ]
        },
        {
          "output_type": "stream",
          "name": "stderr",
          "text": [
            " 47%|████▋     | 470265/1000000 [03:35<03:48, 2321.24it/s]"
          ]
        },
        {
          "output_type": "stream",
          "name": "stdout",
          "text": [
            "BEST FITNESS TO DATE: 89675.82066810085\n"
          ]
        },
        {
          "output_type": "stream",
          "name": "stderr",
          "text": [
            " 48%|████▊     | 480343/1000000 [03:39<03:47, 2279.47it/s]"
          ]
        },
        {
          "output_type": "stream",
          "name": "stdout",
          "text": [
            "BEST FITNESS TO DATE: 89675.82066810085\n"
          ]
        },
        {
          "output_type": "stream",
          "name": "stderr",
          "text": [
            " 49%|████▉     | 490253/1000000 [03:44<03:34, 2375.49it/s]"
          ]
        },
        {
          "output_type": "stream",
          "name": "stdout",
          "text": [
            "BEST FITNESS TO DATE: 112725.08635420352\n"
          ]
        },
        {
          "output_type": "stream",
          "name": "stderr",
          "text": [
            " 50%|█████     | 500376/1000000 [03:48<03:39, 2278.09it/s]"
          ]
        },
        {
          "output_type": "stream",
          "name": "stdout",
          "text": [
            "BEST FITNESS TO DATE: 112714.4648910528\n"
          ]
        },
        {
          "output_type": "stream",
          "name": "stderr",
          "text": [
            " 51%|█████     | 510281/1000000 [03:52<03:35, 2269.93it/s]"
          ]
        },
        {
          "output_type": "stream",
          "name": "stdout",
          "text": [
            "BEST FITNESS TO DATE: 55265.240283516236\n"
          ]
        },
        {
          "output_type": "stream",
          "name": "stderr",
          "text": [
            " 52%|█████▏    | 520428/1000000 [03:57<03:36, 2211.32it/s]"
          ]
        },
        {
          "output_type": "stream",
          "name": "stdout",
          "text": [
            "BEST FITNESS TO DATE: 112725.08635420352\n"
          ]
        },
        {
          "output_type": "stream",
          "name": "stderr",
          "text": [
            " 53%|█████▎    | 530302/1000000 [04:01<03:25, 2284.47it/s]"
          ]
        },
        {
          "output_type": "stream",
          "name": "stdout",
          "text": [
            "BEST FITNESS TO DATE: 112723.56875817757\n"
          ]
        },
        {
          "output_type": "stream",
          "name": "stderr",
          "text": [
            " 54%|█████▍    | 540235/1000000 [04:06<03:24, 2249.75it/s]"
          ]
        },
        {
          "output_type": "stream",
          "name": "stdout",
          "text": [
            "BEST FITNESS TO DATE: 127014.57664107345\n"
          ]
        },
        {
          "output_type": "stream",
          "name": "stderr",
          "text": [
            " 55%|█████▌    | 550300/1000000 [04:10<03:16, 2283.59it/s]"
          ]
        },
        {
          "output_type": "stream",
          "name": "stdout",
          "text": [
            "BEST FITNESS TO DATE: 128551.58535331907\n"
          ]
        },
        {
          "output_type": "stream",
          "name": "stderr",
          "text": [
            " 56%|█████▌    | 560438/1000000 [04:14<03:20, 2191.36it/s]"
          ]
        },
        {
          "output_type": "stream",
          "name": "stdout",
          "text": [
            "BEST FITNESS TO DATE: 127968.55219075596\n"
          ]
        },
        {
          "output_type": "stream",
          "name": "stderr",
          "text": [
            " 57%|█████▋    | 570338/1000000 [04:19<03:21, 2136.21it/s]"
          ]
        },
        {
          "output_type": "stream",
          "name": "stdout",
          "text": [
            "BEST FITNESS TO DATE: 128547.4642025833\n"
          ]
        },
        {
          "output_type": "stream",
          "name": "stderr",
          "text": [
            " 58%|█████▊    | 580465/1000000 [04:24<03:01, 2314.51it/s]"
          ]
        },
        {
          "output_type": "stream",
          "name": "stdout",
          "text": [
            "BEST FITNESS TO DATE: 92904.33432425512\n"
          ]
        },
        {
          "output_type": "stream",
          "name": "stderr",
          "text": [
            " 59%|█████▉    | 590383/1000000 [04:28<02:55, 2329.34it/s]"
          ]
        },
        {
          "output_type": "stream",
          "name": "stdout",
          "text": [
            "BEST FITNESS TO DATE: 92904.33432425512\n"
          ]
        },
        {
          "output_type": "stream",
          "name": "stderr",
          "text": [
            " 60%|██████    | 600400/1000000 [04:32<03:03, 2178.73it/s]"
          ]
        },
        {
          "output_type": "stream",
          "name": "stdout",
          "text": [
            "BEST FITNESS TO DATE: 92904.33432425512\n"
          ]
        },
        {
          "output_type": "stream",
          "name": "stderr",
          "text": [
            " 61%|██████    | 610382/1000000 [04:37<03:03, 2120.54it/s]"
          ]
        },
        {
          "output_type": "stream",
          "name": "stdout",
          "text": [
            "BEST FITNESS TO DATE: 101695.84719721088\n"
          ]
        },
        {
          "output_type": "stream",
          "name": "stderr",
          "text": [
            " 62%|██████▏   | 620458/1000000 [04:41<02:43, 2321.67it/s]"
          ]
        },
        {
          "output_type": "stream",
          "name": "stdout",
          "text": [
            "BEST FITNESS TO DATE: 128545.90529158479\n"
          ]
        },
        {
          "output_type": "stream",
          "name": "stderr",
          "text": [
            " 63%|██████▎   | 630264/1000000 [04:46<02:43, 2256.49it/s]"
          ]
        },
        {
          "output_type": "stream",
          "name": "stdout",
          "text": [
            "BEST FITNESS TO DATE: 128545.90529158479\n"
          ]
        },
        {
          "output_type": "stream",
          "name": "stderr",
          "text": [
            " 64%|██████▍   | 640230/1000000 [04:50<02:43, 2203.51it/s]"
          ]
        },
        {
          "output_type": "stream",
          "name": "stdout",
          "text": [
            "BEST FITNESS TO DATE: 128545.90529158479\n"
          ]
        },
        {
          "output_type": "stream",
          "name": "stderr",
          "text": [
            " 65%|██████▌   | 650412/1000000 [04:54<02:34, 2263.37it/s]"
          ]
        },
        {
          "output_type": "stream",
          "name": "stdout",
          "text": [
            "BEST FITNESS TO DATE: 128545.34932727134\n"
          ]
        },
        {
          "output_type": "stream",
          "name": "stderr",
          "text": [
            " 66%|██████▌   | 660295/1000000 [04:59<02:25, 2330.26it/s]"
          ]
        },
        {
          "output_type": "stream",
          "name": "stdout",
          "text": [
            "BEST FITNESS TO DATE: 145322.70778164268\n"
          ]
        },
        {
          "output_type": "stream",
          "name": "stderr",
          "text": [
            " 67%|██████▋   | 670327/1000000 [05:03<02:29, 2208.17it/s]"
          ]
        },
        {
          "output_type": "stream",
          "name": "stdout",
          "text": [
            "BEST FITNESS TO DATE: 145322.70778164268\n"
          ]
        },
        {
          "output_type": "stream",
          "name": "stderr",
          "text": [
            " 68%|██████▊   | 680341/1000000 [05:07<02:18, 2308.66it/s]"
          ]
        },
        {
          "output_type": "stream",
          "name": "stdout",
          "text": [
            "BEST FITNESS TO DATE: 140407.47531979159\n"
          ]
        },
        {
          "output_type": "stream",
          "name": "stderr",
          "text": [
            " 69%|██████▉   | 690237/1000000 [05:12<02:17, 2255.49it/s]"
          ]
        },
        {
          "output_type": "stream",
          "name": "stdout",
          "text": [
            "BEST FITNESS TO DATE: 132857.58837767458\n"
          ]
        },
        {
          "output_type": "stream",
          "name": "stderr",
          "text": [
            " 70%|███████   | 700245/1000000 [05:16<02:11, 2275.42it/s]"
          ]
        },
        {
          "output_type": "stream",
          "name": "stdout",
          "text": [
            "BEST FITNESS TO DATE: 62060.50665676966\n"
          ]
        },
        {
          "output_type": "stream",
          "name": "stderr",
          "text": [
            " 71%|███████   | 710249/1000000 [05:20<02:07, 2265.13it/s]"
          ]
        },
        {
          "output_type": "stream",
          "name": "stdout",
          "text": [
            "BEST FITNESS TO DATE: 61928.767797986045\n"
          ]
        },
        {
          "output_type": "stream",
          "name": "stderr",
          "text": [
            " 72%|███████▏  | 720406/1000000 [05:25<02:05, 2236.26it/s]"
          ]
        },
        {
          "output_type": "stream",
          "name": "stdout",
          "text": [
            "BEST FITNESS TO DATE: 61928.767797986045\n"
          ]
        },
        {
          "output_type": "stream",
          "name": "stderr",
          "text": [
            " 73%|███████▎  | 730368/1000000 [05:29<01:59, 2263.45it/s]"
          ]
        },
        {
          "output_type": "stream",
          "name": "stdout",
          "text": [
            "BEST FITNESS TO DATE: 61652.57143613743\n"
          ]
        },
        {
          "output_type": "stream",
          "name": "stderr",
          "text": [
            " 74%|███████▍  | 740230/1000000 [05:34<02:00, 2159.69it/s]"
          ]
        },
        {
          "output_type": "stream",
          "name": "stdout",
          "text": [
            "BEST FITNESS TO DATE: 61652.57143613743\n"
          ]
        },
        {
          "output_type": "stream",
          "name": "stderr",
          "text": [
            " 75%|███████▌  | 750467/1000000 [05:38<01:47, 2327.10it/s]"
          ]
        },
        {
          "output_type": "stream",
          "name": "stdout",
          "text": [
            "BEST FITNESS TO DATE: 61652.57143613743\n"
          ]
        },
        {
          "output_type": "stream",
          "name": "stderr",
          "text": [
            " 76%|███████▌  | 760313/1000000 [05:43<01:45, 2264.12it/s]"
          ]
        },
        {
          "output_type": "stream",
          "name": "stdout",
          "text": [
            "BEST FITNESS TO DATE: 61652.57143613743\n"
          ]
        },
        {
          "output_type": "stream",
          "name": "stderr",
          "text": [
            " 77%|███████▋  | 770263/1000000 [05:47<01:44, 2194.11it/s]"
          ]
        },
        {
          "output_type": "stream",
          "name": "stdout",
          "text": [
            "BEST FITNESS TO DATE: 61652.57143613743\n"
          ]
        },
        {
          "output_type": "stream",
          "name": "stderr",
          "text": [
            " 78%|███████▊  | 780245/1000000 [05:52<01:35, 2295.50it/s]"
          ]
        },
        {
          "output_type": "stream",
          "name": "stdout",
          "text": [
            "BEST FITNESS TO DATE: 61652.57143613743\n"
          ]
        },
        {
          "output_type": "stream",
          "name": "stderr",
          "text": [
            " 79%|███████▉  | 790298/1000000 [05:56<01:32, 2278.50it/s]"
          ]
        },
        {
          "output_type": "stream",
          "name": "stdout",
          "text": [
            "BEST FITNESS TO DATE: 61650.02208341332\n"
          ]
        },
        {
          "output_type": "stream",
          "name": "stderr",
          "text": [
            " 80%|████████  | 800343/1000000 [06:01<01:27, 2275.25it/s]"
          ]
        },
        {
          "output_type": "stream",
          "name": "stdout",
          "text": [
            "BEST FITNESS TO DATE: 61652.57143613743\n"
          ]
        },
        {
          "output_type": "stream",
          "name": "stderr",
          "text": [
            " 81%|████████  | 810295/1000000 [06:05<01:29, 2113.78it/s]"
          ]
        },
        {
          "output_type": "stream",
          "name": "stdout",
          "text": [
            "BEST FITNESS TO DATE: 57655.11870119022\n"
          ]
        },
        {
          "output_type": "stream",
          "name": "stderr",
          "text": [
            " 82%|████████▏ | 820270/1000000 [06:10<01:27, 2055.86it/s]"
          ]
        },
        {
          "output_type": "stream",
          "name": "stdout",
          "text": [
            "BEST FITNESS TO DATE: 57655.11870119022\n"
          ]
        },
        {
          "output_type": "stream",
          "name": "stderr",
          "text": [
            " 83%|████████▎ | 830262/1000000 [06:14<01:14, 2275.26it/s]"
          ]
        },
        {
          "output_type": "stream",
          "name": "stdout",
          "text": [
            "BEST FITNESS TO DATE: 57655.11870119022\n"
          ]
        },
        {
          "output_type": "stream",
          "name": "stderr",
          "text": [
            " 84%|████████▍ | 840354/1000000 [06:19<01:13, 2168.31it/s]"
          ]
        },
        {
          "output_type": "stream",
          "name": "stdout",
          "text": [
            "BEST FITNESS TO DATE: 57655.11870119022\n"
          ]
        },
        {
          "output_type": "stream",
          "name": "stderr",
          "text": [
            " 85%|████████▌ | 850374/1000000 [06:23<01:09, 2148.52it/s]"
          ]
        },
        {
          "output_type": "stream",
          "name": "stdout",
          "text": [
            "BEST FITNESS TO DATE: 57655.11870119022\n"
          ]
        },
        {
          "output_type": "stream",
          "name": "stderr",
          "text": [
            " 86%|████████▌ | 860272/1000000 [06:28<01:03, 2210.20it/s]"
          ]
        },
        {
          "output_type": "stream",
          "name": "stdout",
          "text": [
            "BEST FITNESS TO DATE: 57655.11870119022\n"
          ]
        },
        {
          "output_type": "stream",
          "name": "stderr",
          "text": [
            " 87%|████████▋ | 870273/1000000 [06:32<00:57, 2265.47it/s]"
          ]
        },
        {
          "output_type": "stream",
          "name": "stdout",
          "text": [
            "BEST FITNESS TO DATE: 61652.57143613743\n"
          ]
        },
        {
          "output_type": "stream",
          "name": "stderr",
          "text": [
            " 88%|████████▊ | 880309/1000000 [06:37<01:01, 1959.62it/s]"
          ]
        },
        {
          "output_type": "stream",
          "name": "stdout",
          "text": [
            "BEST FITNESS TO DATE: 61651.56922553247\n"
          ]
        },
        {
          "output_type": "stream",
          "name": "stderr",
          "text": [
            " 89%|████████▉ | 890298/1000000 [06:41<00:49, 2233.89it/s]"
          ]
        },
        {
          "output_type": "stream",
          "name": "stdout",
          "text": [
            "BEST FITNESS TO DATE: 57655.11870119022\n"
          ]
        },
        {
          "output_type": "stream",
          "name": "stderr",
          "text": [
            " 90%|█████████ | 900402/1000000 [06:46<00:49, 2019.04it/s]"
          ]
        },
        {
          "output_type": "stream",
          "name": "stdout",
          "text": [
            "BEST FITNESS TO DATE: 57655.11870119022\n"
          ]
        },
        {
          "output_type": "stream",
          "name": "stderr",
          "text": [
            " 91%|█████████ | 910369/1000000 [06:51<00:44, 2021.75it/s]"
          ]
        },
        {
          "output_type": "stream",
          "name": "stdout",
          "text": [
            "BEST FITNESS TO DATE: 57655.11870119022\n"
          ]
        },
        {
          "output_type": "stream",
          "name": "stderr",
          "text": [
            " 92%|█████████▏| 920431/1000000 [06:56<00:35, 2261.06it/s]"
          ]
        },
        {
          "output_type": "stream",
          "name": "stdout",
          "text": [
            "BEST FITNESS TO DATE: 57652.62226976128\n"
          ]
        },
        {
          "output_type": "stream",
          "name": "stderr",
          "text": [
            " 93%|█████████▎| 930414/1000000 [07:00<00:30, 2281.26it/s]"
          ]
        },
        {
          "output_type": "stream",
          "name": "stdout",
          "text": [
            "BEST FITNESS TO DATE: 57655.11870119022\n"
          ]
        },
        {
          "output_type": "stream",
          "name": "stderr",
          "text": [
            " 94%|█████████▍| 940236/1000000 [07:05<00:27, 2163.21it/s]"
          ]
        },
        {
          "output_type": "stream",
          "name": "stdout",
          "text": [
            "BEST FITNESS TO DATE: 57655.11870119022\n"
          ]
        },
        {
          "output_type": "stream",
          "name": "stderr",
          "text": [
            " 95%|█████████▌| 950372/1000000 [07:09<00:22, 2250.59it/s]"
          ]
        },
        {
          "output_type": "stream",
          "name": "stdout",
          "text": [
            "BEST FITNESS TO DATE: 57655.11870119022\n"
          ]
        },
        {
          "output_type": "stream",
          "name": "stderr",
          "text": [
            " 96%|█████████▌| 960472/1000000 [07:14<00:16, 2330.60it/s]"
          ]
        },
        {
          "output_type": "stream",
          "name": "stdout",
          "text": [
            "BEST FITNESS TO DATE: 57655.11870119022\n"
          ]
        },
        {
          "output_type": "stream",
          "name": "stderr",
          "text": [
            " 97%|█████████▋| 970326/1000000 [07:18<00:13, 2209.41it/s]"
          ]
        },
        {
          "output_type": "stream",
          "name": "stdout",
          "text": [
            "BEST FITNESS TO DATE: 57655.11870119022\n"
          ]
        },
        {
          "output_type": "stream",
          "name": "stderr",
          "text": [
            " 98%|█████████▊| 980302/1000000 [07:23<00:08, 2221.86it/s]"
          ]
        },
        {
          "output_type": "stream",
          "name": "stdout",
          "text": [
            "BEST FITNESS TO DATE: 57655.11870119022\n"
          ]
        },
        {
          "output_type": "stream",
          "name": "stderr",
          "text": [
            " 99%|█████████▉| 990417/1000000 [07:27<00:04, 2301.77it/s]"
          ]
        },
        {
          "output_type": "stream",
          "name": "stdout",
          "text": [
            "BEST FITNESS TO DATE: 57655.11870119022\n"
          ]
        },
        {
          "output_type": "stream",
          "name": "stderr",
          "text": [
            "100%|██████████| 1000000/1000000 [07:31<00:00, 2212.69it/s]\n"
          ]
        }
      ],
      "source": [
        "from tqdm import tqdm\n",
        "from sklearn.datasets import fetch_california_housing\n",
        "from sklearn.model_selection import train_test_split\n",
        "\n",
        "\n",
        "N_ARGS = 2\n",
        "OP_DEPTH = 10\n",
        "X_arr = np.array([10,22, 5000, 300, -999])\n",
        "y_true = X_arr // np.sin(X_arr)*50**3\n",
        "\n",
        "POPULATION_COUNT = 1000\n",
        "def half_fitness(preds, HALVED):\n",
        "    return np.sum(np.abs(preds - HALVED))\n",
        "\n",
        "reward_to_gene_list = initialialize_population(X_arr,y_true = y_true, fitness_func =half_fitness, population_count = POPULATION_COUNT, op_depth = OP_DEPTH, memory_size = MEMORY_SIZE , OP_dict = OP_dict,max_arg = 2)\n",
        "\n",
        "final_genome = run_evolution(X_arr,y_true,iters = 1000000, fitness_func = half_fitness, \\\n",
        "                             reward_to_gene_list=reward_to_gene_list, N=10, \\\n",
        "                             population = POPULATION_COUNT, \\\n",
        "                             beta = 100)\n"
      ]
    },
    {
      "cell_type": "code",
      "execution_count": null,
      "metadata": {
        "colab": {
          "base_uri": "https://localhost:8080/"
        },
        "id": "EmG3NOoookFs",
        "outputId": "27a81587-0fca-48cd-d298-b4b6230996c7"
      },
      "outputs": [
        {
          "data": {
            "text/plain": [
              "2599.2933517658307"
            ]
          },
          "execution_count": 21,
          "metadata": {},
          "output_type": "execute_result"
        }
      ],
      "source": [
        "reward_to_gene_list[0][0]"
      ]
    },
    {
      "cell_type": "code",
      "execution_count": null,
      "metadata": {
        "colab": {
          "base_uri": "https://localhost:8080/"
        },
        "id": "Ct12kOTcoBvL",
        "outputId": "09a8d4a8-90dc-4192-b5e3-6e304512183e"
      },
      "outputs": [
        {
          "data": {
            "text/plain": [
              "array([[2, 1],\n",
              "       [2, 5],\n",
              "       [5, 4],\n",
              "       [3, 3],\n",
              "       [5, 2],\n",
              "       [4, 3],\n",
              "       [4, 2],\n",
              "       [2, 0],\n",
              "       [3, 3],\n",
              "       [4, 0]])"
            ]
          },
          "execution_count": 17,
          "metadata": {},
          "output_type": "execute_result"
        }
      ],
      "source": [
        "reward_to_gene_list[0][1][2]"
      ]
    },
    {
      "cell_type": "code",
      "execution_count": null,
      "metadata": {
        "colab": {
          "base_uri": "https://localhost:8080/"
        },
        "id": "6ohrHZhsorMj",
        "outputId": "8a97fe53-424a-4853-b4f0-db0dcef8a036"
      },
      "outputs": [
        {
          "data": {
            "text/plain": [
              "array([[5],\n",
              "       [5],\n",
              "       [2],\n",
              "       [0],\n",
              "       [5],\n",
              "       [0],\n",
              "       [1],\n",
              "       [0],\n",
              "       [2],\n",
              "       [2]])"
            ]
          },
          "execution_count": 20,
          "metadata": {},
          "output_type": "execute_result"
        }
      ],
      "source": [
        "reward_to_gene_list[0][1][3]"
      ]
    },
    {
      "cell_type": "code",
      "execution_count": null,
      "metadata": {
        "colab": {
          "base_uri": "https://localhost:8080/"
        },
        "id": "AcZ0kjEzoaXG",
        "outputId": "4478ffa5-a0b5-46ef-cb89-a9d468ed2de7"
      },
      "outputs": [
        {
          "data": {
            "text/plain": [
              "array([[10],\n",
              "       [ 4],\n",
              "       [ 4],\n",
              "       [10],\n",
              "       [ 9],\n",
              "       [ 7],\n",
              "       [ 6],\n",
              "       [ 1],\n",
              "       [ 7],\n",
              "       [10]])"
            ]
          },
          "execution_count": 18,
          "metadata": {},
          "output_type": "execute_result"
        }
      ],
      "source": [
        "reward_to_gene_list[0][1][0]"
      ]
    },
    {
      "cell_type": "code",
      "execution_count": null,
      "metadata": {
        "id": "FcGeHICf5too"
      },
      "outputs": [],
      "source": [
        "X, y = fetch_california_housing(return_X_y=True, as_frame=False)\n",
        "X_train, X_test, y_train, y_test = train_test_split(X, y, test_size=0.33, random_state=42)\n",
        "X_train, X_test = X_train[:,0], X_test[:,0]\n"
      ]
    },
    {
      "cell_type": "code",
      "execution_count": null,
      "metadata": {
        "colab": {
          "base_uri": "https://localhost:8080/",
          "height": 174
        },
        "id": "vZE5hxNS4kAd",
        "outputId": "53dd118b-d620-4353-a12f-8f9438adb6ff"
      },
      "outputs": [
        {
          "ename": "NameError",
          "evalue": "ignored",
          "output_type": "error",
          "traceback": [
            "\u001b[0;31m---------------------------------------------------------------------------\u001b[0m",
            "\u001b[0;31mNameError\u001b[0m                                 Traceback (most recent call last)",
            "\u001b[0;32m<ipython-input-19-b6709661362e>\u001b[0m in \u001b[0;36m<module>\u001b[0;34m()\u001b[0m\n\u001b[0;32m----> 1\u001b[0;31m \u001b[0mpreds\u001b[0m \u001b[0;34m=\u001b[0m \u001b[0mresolve_genome\u001b[0m\u001b[0;34m(\u001b[0m\u001b[0mX_test\u001b[0m\u001b[0;34m,\u001b[0m\u001b[0mmin_OP\u001b[0m\u001b[0;34m,\u001b[0m \u001b[0mmin_memory\u001b[0m\u001b[0;34m,\u001b[0m \u001b[0mmin_arg\u001b[0m\u001b[0;34m,\u001b[0m \u001b[0mmin_output\u001b[0m\u001b[0;34m,\u001b[0m \u001b[0mOP_dict\u001b[0m  \u001b[0;34m)\u001b[0m\u001b[0;34m\u001b[0m\u001b[0;34m\u001b[0m\u001b[0m\n\u001b[0m",
            "\u001b[0;31mNameError\u001b[0m: name 'X_test' is not defined"
          ]
        }
      ],
      "source": [
        ""
      ]
    },
    {
      "cell_type": "code",
      "execution_count": null,
      "metadata": {
        "colab": {
          "base_uri": "https://localhost:8080/"
        },
        "id": "gd4N3p47kSi8",
        "outputId": "80473f86-6542-4ff3-a941-c8ef23870009"
      },
      "outputs": [
        {
          "name": "stdout",
          "output_type": "stream",
          "text": [
            "0.0018769970047287643\n",
            "[125004.99953075 125010.99953075 127499.99953075 125149.99953075]\n"
          ]
        },
        {
          "data": {
            "text/plain": [
              "0.0018769970047287643"
            ]
          },
          "execution_count": 26,
          "metadata": {},
          "output_type": "execute_result"
        }
      ],
      "source": [
        "min_fitness = float(\"inf\")\n",
        "for genome in final_genome:\n",
        "    if genome[0] < min_fitness:\n",
        "        min_fitness = genome[0]\n",
        "\n",
        "        min_OP = genome[1][0]\n",
        "        min_memory = genome[1][1]\n",
        "        min_arg = genome[1][2]\n",
        "        min_output = genome[1][3]\n",
        "\n",
        "print(min_fitness)\n",
        "preds = resolve_genome(X_arr,min_OP, min_memory, min_arg, min_output, OP_dict  )\n",
        "print(preds)\n",
        "half_fitness(preds, y_true)"
      ]
    },
    {
      "cell_type": "code",
      "execution_count": null,
      "metadata": {
        "colab": {
          "base_uri": "https://localhost:8080/"
        },
        "id": "MuQ51BA1xY_R",
        "outputId": "a37f21a7-7d69-4375-8dc1-2571e6cfddeb"
      },
      "outputs": [
        {
          "name": "stdout",
          "output_type": "stream",
          "text": [
            "nan\n",
            "17395.093126272488\n",
            "12339.16761643086\n",
            "7933.552250495317\n",
            "5329.043577786344\n",
            "5299.966510211198\n",
            "3059.092110187278\n",
            "3016.809330857939\n",
            "3001.226299295211\n",
            "2992.6950124337\n",
            "2938.981818181818\n",
            "2879.3371209534616\n",
            "2859.957923772836\n",
            "2845.871031583365\n",
            "2842.2707648493893\n",
            "2812.2184775222213\n",
            "2811.846892842286\n",
            "2687.185723297998\n",
            "2683.7006096731366\n",
            "2675.577549137384\n",
            "2674.7401594530456\n",
            "2670.370079726523\n",
            "2666.096337251728\n",
            "2665.879763892415\n",
            "2664.2528361965806\n",
            "2664.0\n",
            "2663.0632250856866\n",
            "2663.043577786344\n",
            "2662.3628102926973\n",
            "2662.0\n",
            "2662.0\n",
            "2660.8907956675707\n",
            "2656.623048313804\n",
            "2648.665896949389\n",
            "2644.8129832375134\n",
            "2638.3853967875752\n",
            "2634.0606106107343\n",
            "2634.0000000000005\n",
            "2634.0000000000005\n",
            "2634.0\n",
            "2634.0\n",
            "2634.0\n",
            "2634.0\n",
            "2634.0\n",
            "2634.0\n",
            "2634.0\n",
            "2634.0\n",
            "2634.0\n",
            "2634.0\n",
            "2634.0\n",
            "2634.0\n",
            "2634.0\n",
            "2634.0\n",
            "2633.9999999999995\n",
            "2633.9999999999995\n",
            "2633.9999999999995\n",
            "2633.9999999999995\n",
            "2633.9999999999995\n",
            "2626.485687648524\n",
            "2625.17265188028\n",
            "2548.1520522394826\n",
            "2469.1470850332207\n",
            "0.0\n",
            "0.0\n",
            "0.0\n",
            "0.0\n",
            "0.0\n",
            "0.0\n",
            "0.0\n",
            "0.0\n",
            "0.0\n",
            "0.0\n",
            "0.0\n",
            "0.0\n",
            "0.0\n",
            "0.0\n",
            "0.0\n",
            "0.0\n",
            "0.0\n",
            "0.0\n",
            "0.0\n",
            "0.0\n",
            "0.0\n",
            "0.0\n",
            "0.0\n",
            "0.0\n",
            "0.0\n",
            "0.0\n",
            "0.0\n",
            "0.0\n",
            "0.0\n",
            "0.0\n",
            "0.0\n",
            "0.0\n",
            "0.0\n",
            "0.0\n",
            "0.0\n",
            "0.0\n",
            "0.0\n",
            "0.0\n"
          ]
        }
      ],
      "source": [
        "for i in range(100):\n",
        "    print(final_genome[i][0])"
      ]
    },
    {
      "cell_type": "code",
      "execution_count": null,
      "metadata": {
        "colab": {
          "base_uri": "https://localhost:8080/"
        },
        "id": "8bgCuXOwppYo",
        "outputId": "fb672ba8-5977-405c-c9b3-3186bb6b6db6"
      },
      "outputs": [
        {
          "data": {
            "text/plain": [
              "list"
            ]
          },
          "execution_count": 97,
          "metadata": {},
          "output_type": "execute_result"
        }
      ],
      "source": [
        "type(sorted(np.array([i for i in range(100)]))[:10])"
      ]
    },
    {
      "cell_type": "code",
      "execution_count": null,
      "metadata": {
        "colab": {
          "base_uri": "https://localhost:8080/"
        },
        "id": "kn7jJ0S2naxM",
        "outputId": "08b1b4e1-eef2-4fe8-c3c4-1016a8f411bb"
      },
      "outputs": [
        {
          "name": "stderr",
          "output_type": "stream",
          "text": [
            "/usr/local/lib/python3.7/dist-packages/ipykernel_launcher.py:19: VisibleDeprecationWarning: Creating an ndarray from ragged nested sequences (which is a list-or-tuple of lists-or-tuples-or ndarrays with different lengths or shapes) is deprecated. If you meant to do this, you must specify 'dtype=object' when creating the ndarray\n"
          ]
        },
        {
          "data": {
            "text/plain": [
              "10000"
            ]
          },
          "execution_count": 76,
          "metadata": {},
          "output_type": "execute_result"
        }
      ],
      "source": [
        "len(initialialize_population(population_count = POPULATION_COUNT, op_depth = OP_DEPTH, memory_size = MEMORY_SIZE , OP_dict = OP_dict,max_arg = 2))"
      ]
    }
  ],
  "metadata": {
    "colab": {
      "collapsed_sections": [],
      "name": "Practical Godel Machine -  GA AutoML Zero w/Matricies experiment.ipynb",
      "provenance": []
    },
    "kernelspec": {
      "display_name": "Python 3",
      "name": "python3"
    },
    "language_info": {
      "name": "python"
    }
  },
  "nbformat": 4,
  "nbformat_minor": 0
}