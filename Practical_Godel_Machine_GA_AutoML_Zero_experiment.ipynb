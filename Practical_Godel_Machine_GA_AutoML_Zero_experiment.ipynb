{
  "nbformat": 4,
  "nbformat_minor": 0,
  "metadata": {
    "colab": {
      "name": "Practical Godel Machine -  GA AutoML Zero experiment.ipynb",
      "provenance": [],
      "collapsed_sections": []
    },
    "kernelspec": {
      "name": "python3",
      "display_name": "Python 3"
    },
    "language_info": {
      "name": "python"
    }
  },
  "cells": [
    {
      "cell_type": "code",
      "metadata": {
        "id": "0dgKPHvqCITB"
      },
      "source": [
        "import numpy as np\n",
        "\n",
        "def sigmoid(x):\n",
        "     return 1 /(1 + 1 / np.exp(x))\n",
        "\n",
        "def leaky_relu(x, alpha):\n",
        "    return np.where(x > 0, x, x * alpha)\n",
        "\n",
        "def relu(x):\n",
        "    x[x<0] =0\n",
        "    return x\n",
        "\n",
        "def stable_softmax(x):\n",
        "    z = x - np.max(x)\n",
        "    numerator = np.exp(z)\n",
        "    denominator = np.sum(numerator)\n",
        "    softmax = numerator/denominator\n",
        "\n",
        "    return softmax\n"
      ],
      "execution_count": null,
      "outputs": []
    },
    {
      "cell_type": "code",
      "metadata": {
        "id": "DJ0ePzGU54HO"
      },
      "source": [
        "\n",
        "ops_basic = [np.add, np.subtract, np.multiply, np.divide, \\\n",
        "             np.abs, np.reciprocal, \\\n",
        "             np.sin, np.cos, np.tan, np.arcsin, np.arccos, np.arctan, \\\n",
        "             np.exp, np.log, np.heaviside, np.linalg.norm, \\\n",
        "             np.dot, np.matmul, np.transpose, np.min, np.max, np.mean, \\\n",
        "             np.std, np.put, np.sum, \\\n",
        "             np.random.uniform, np.random.normal, \\\n",
        "             np.convolve, sigmoid, leaky_relu, stable_softmax ] \n",
        "\n",
        "             # TODO assign scalar, assign in position\n",
        "             #matmul needs a special operation rand1 , rand_same * rand_same , rand2\n",
        "\n",
        "OP_ARR = np.array(ops_basic)    \n",
        "OP_COUNT = np.zeros(shape = (len(ops_basic)))\n",
        "\n",
        "\n",
        "\n",
        "BASIC_ARITHMETIC = (-100,100,-100,100) #(lower_bound_1, upper_bound_1, lower_bound_2, upper_bound_2)\n",
        "#REFLEXIVE = \n",
        "\n",
        "\"\"\"\n",
        "ops_manual = [BASIC_ARITHMETIC, BASIC_ARITHMETIC, BASIC_ARITHMETIC, BASIC_ARITHMETIC, \\ #add to divide\n",
        "              1, 1, \\ #abs reciprocal\n",
        "              1, 1, 1, 1, 1, 1 \\ #sin to arctan\n",
        "              1, 1, 1, 1, #exp to norm\n",
        "              2, 2#matmul, 1, 1, 1, 1, \\ #dot to mean\n",
        "              1, #put, 1, # std put sum\n",
        "              size, size\n",
        "               #convolve, 1, 1, 1 # conv to softmax\n",
        "              ]\n",
        "\"\"\"\n",
        "\n",
        "PARAMETER_REGISTER_SIZE = 5\n",
        "LEARNED_CONSTS = []\n",
        "\n",
        "\n",
        "# I can have another op sized arr or better yet (since this is too restrictive)\n",
        "#\n",
        "#edit func_defaults\n",
        "#for axis = 0/1 and simmilar things might need a deepcopy first\n"
      ],
      "execution_count": null,
      "outputs": []
    },
    {
      "cell_type": "code",
      "source": [
        "import numpy as np\n",
        "\n",
        "beta = 0.05\n",
        "\n",
        "def _rescale_gaussian(gauss_arr, min_val = -100, max_val=100, normal_max=4, normal_min=-4):\n",
        "    gauss_arr = (( (gauss_arr-normal_min)     \\\n",
        "                 /(normal_max-normal_min ))  \\\n",
        "                * (max_val- (min_val))) + min_val\n",
        "    return gauss_arr\n",
        "\n",
        "\n",
        "initial_gaussian = np.random.normal(loc=0.0,scale=1.0,size=(3,3))\n",
        "update_initial = initial_gaussian + beta * np.random.normal(scale=0,loc=1,size=(3,3))\n",
        "rescaled_gaussian = _rescale_gaussian(update_initial,min_val=0,max_val=1)\n",
        "presented_gaussian_2 = np.round(rescaled_gaussian)\n",
        "## Should this be a binary bit operation "
      ],
      "metadata": {
        "id": "mEC8qHPpCY1d"
      },
      "execution_count": null,
      "outputs": []
    },
    {
      "cell_type": "code",
      "source": [
        "import pandas as pd\n",
        "import numpy as np\n",
        "from numba import jit, njit\n",
        "\n",
        "#OP_depth = 10\n",
        "\n",
        "## Creating OP Vectors\n",
        "#print(OP_vector)\n",
        "@jit\n",
        "def do_nothing(x):\n",
        "    return x\n",
        "\n",
        "OP_dict = {0:(np.add,2), \n",
        "           1:(np.subtract,2),\n",
        "           2:(np.multiply,2),\n",
        "           3:(np.divide,2),\n",
        "           4:(np.abs,1), \n",
        "           5:(np.reciprocal,1),\n",
        "           6:(np.sin,1), \n",
        "           7:(np.cos,1), \n",
        "           8:(np.tan,1),\n",
        "           9:(np.log,1),\n",
        "           10:(do_nothing,1)}\n",
        "\n",
        "\n",
        "#OP_vector = np.random.randint(0,len(OP_dict), size=(OP_depth + 1,1))\n",
        "\n",
        "def _rescale_gaussian(gauss_arr, min_val = -100, max_val=100, normal_max=4, normal_min=-4):\n",
        "    gauss_arr = (( (gauss_arr-normal_min)     \\\n",
        "                 /(normal_max-normal_min ))  \\\n",
        "                * (max_val- (min_val))) + min_val\n",
        "    return gauss_arr\n",
        "\n",
        "def initialize_memory(memory_size = 3, element_type = \"scalar\", matrix_size= (2,2), start=-2, end=2):\n",
        "    \"\"\"\n",
        "        weight_type: int or float, specifies whether to \n",
        "    \"\"\"    \n",
        "    if element_type == \"scalar\":\n",
        "        #random_args = np.random.normal(loc=0 , scale=1, size=(memory_size,) )\n",
        "        random_args = np.random.uniform(-100,100, size=(memory_size,)) \n",
        "    elif element_type == \"vector\":\n",
        "        random_args = np.random.normal(loc=0 , scale=1, size=(memory_size,matrix_size[0]) )\n",
        "\n",
        "    elif element_type == \"matrix\":\n",
        "        random_args = np.random.normal(loc=0 , scale=1, size=(memory_size,matrix_size[0],matrix_size[1]) )\n",
        "\n",
        "    return random_args\n",
        "\n"
      ],
      "metadata": {
        "id": "cqiRnETY_NVe"
      },
      "execution_count": null,
      "outputs": []
    },
    {
      "cell_type": "code",
      "source": [
        "def update_genome(old_genome, beta = 0.05):\n",
        "    updated_genome = old_genome + beta * np.random.normal(scale=1,loc=0,size=old_genome.shape)\n",
        "    return updated_genome\n",
        "\n"
      ],
      "metadata": {
        "id": "R3alCL2nDHO5"
      },
      "execution_count": null,
      "outputs": []
    },
    {
      "cell_type": "code",
      "source": [
        "from random import choice, randint, sample\n",
        "from copy import deepcopy\n",
        "from tqdm import tqdm\n",
        "## \n",
        "\n",
        "MAXIMUM_ARGUMENT_LENGTH = 2\n",
        "INPUT_SIZE = 1\n",
        "MEMORY_SIZE = 5 + INPUT_SIZE\n",
        "POPULATION_COUNT = 100\n",
        "def initialialize_population(X_arr, y_true= None, fitness_func= None, population_count = POPULATION_COUNT, op_depth = None, memory_size = MEMORY_SIZE , OP_dict = OP_dict,max_arg = 2):\n",
        "    genes_list = []\n",
        "    for _ in range(population_count):\n",
        "        memory_arr = initialize_memory(memory_size = MEMORY_SIZE, element_type = \"scalar\", matrix_size= (2,2), start=-10, end=10)\n",
        "        OP_gene = np.random.randint(0,len(OP_dict), size=(OP_DEPTH,1))\n",
        "        arg_locations = np.random.randint(0, len(memory_arr),size=(OP_DEPTH, max_arg)).astype(int)\n",
        "        output_locations = np.random.randint(0, len(memory_arr) ,size=(OP_DEPTH, 1)).astype(int)\n",
        "\n",
        "        preds = resolve_genome(X_arr,OP_gene, memory_arr, arg_locations, output_locations, OP_dict  )\n",
        "        fitness = fitness_func(preds, y_true)\n",
        "\n",
        "        genes_list.append( (fitness,(OP_gene, memory_arr, arg_locations, output_locations )  ) )\n",
        "    return genes_list\n",
        "\n",
        "\n",
        "def initialize_memory(memory_size = 3, element_type = \"scalar\", matrix_size= (2,2), start=-2, end=2):\n",
        "    \"\"\"\n",
        "        weight_type: int or float, specifies whether to \n",
        "    \"\"\"    \n",
        "    if element_type == \"scalar\":\n",
        "        #random_args = np.random.normal(loc=0 , scale=1, size=(memory_size,) )\n",
        "        random_args = np.random.uniform(-100,100, size=(memory_size,)) \n",
        "    elif element_type == \"vector\":\n",
        "        random_args = np.random.normal(loc=0 , scale=1, size=(memory_size,matrix_size[0]) )\n",
        "\n",
        "    elif element_type == \"matrix\":\n",
        "        random_args = np.random.normal(loc=0 , scale=1, size=(memory_size,matrix_size[0],matrix_size[1]) )\n",
        "\n",
        "\n",
        "    #random_args = _rescale_gaussian(random_args, min_val=start, max_val=end)\n",
        "    return random_args\n",
        "\n",
        "def _mutate_all(winner):\n",
        "    _, (OP_gene, memory_arr, arg_locations, output_locations) = winner\n",
        "\n",
        "    memory_arr = initialize_memory(memory_size = MEMORY_SIZE, element_type = \"scalar\", matrix_size= (2,2), start=-10, end=10)\n",
        "    OP_gene = np.random.randint(0,len(OP_dict), size=(OP_DEPTH,1))\n",
        "    arg_locations = np.random.randint(0, len(memory_arr),size=(arg_locations.shape)).astype(int)\n",
        "    output_locations = np.random.randint(0, len(memory_arr) ,size=(output_locations.shape)).astype(int)\n",
        "\n",
        "    return (-9999, (OP_gene, memory_arr, arg_locations, output_locations))\n",
        "\n",
        "def _mutate_add_or_remove_one_instruction(winner):\n",
        "    _, (OP_gene, memory_arr, arg_locations, output_locations) = deepcopy(winner)\n",
        "\n",
        "    instruction_idx = np.random.randint(0,OP_DEPTH, size=(1) )[0]\n",
        "\n",
        "    OP_gene[instruction_idx] = np.random.randint(0,len(OP_dict), size=OP_gene[instruction_idx].shape)\n",
        "    arg_locations[instruction_idx] = np.random.randint(0, len(memory_arr),size=arg_locations[instruction_idx].shape).astype(int)\n",
        "    output_locations[instruction_idx] = np.random.randint(0, len(memory_arr),size=output_locations[instruction_idx].shape).astype(int)\n",
        "\n",
        "    return (-9999, (OP_gene, memory_arr, arg_locations, output_locations))\n",
        "\n",
        "def _mutate_one_argument(winner):\n",
        "    _, (OP_gene, memory_arr, arg_locations, output_locations) = deepcopy(winner)\n",
        "\n",
        "    instruction_idx = np.random.randint(0,OP_DEPTH, size=(1))[0]\n",
        "\n",
        "    if np.random.random() > 0.5:\n",
        "        argument_idx = np.random.randint(0,arg_locations[instruction_idx].shape[0], size=(1))[0]\n",
        "        arg_locations[instruction_idx,argument_idx] = np.random.randint(0, len(memory_arr),size=(1)).astype(int)\n",
        "    else:\n",
        "        output_locations[instruction_idx] = np.random.randint(0, len(memory_arr),size=output_locations[instruction_idx].shape).astype(int)\n",
        "\n",
        "    return (-9999, (OP_gene, memory_arr, arg_locations, output_locations))    \n",
        "\n",
        "\n",
        "def mutate_winner(winner):\n",
        "\n",
        "    mutations = [_mutate_one_argument, _mutate_all,  _mutate_add_or_remove_one_instruction ]\n",
        "    mutation_function = choice(mutations)\n",
        "    return mutation_function(winner)\n",
        "\n",
        "def run_tournament(contestants):\n",
        "    min_fitness = float(\"inf\")\n",
        "    for idx in range(len(contestants)):\n",
        "        if contestants[idx][0] < min_fitness:\n",
        "            min_fitness = contestants[idx][0]\n",
        "            min_idx = idx\n",
        "    tournament_winner = contestants[min_idx]\n",
        "    return tournament_winner\n",
        "\n",
        "\n",
        "\n",
        "## TODO this can be vectorized\n",
        "def run_evolution(X_arr, iters = 100000,fitness_func = None, reward_to_gene_list = None, N=10, population = POPULATION_COUNT, beta=0.05):\n",
        "    \n",
        "    #reward_to_gene_list = sorted(reward_to_gene_list, key=itemgetter(0), reverse=True )\n",
        "    true_y = X_arr/2\n",
        "    \n",
        "    for i in tqdm(range(iters)):    \n",
        "        min_fitness = float(\"inf\")\n",
        "        if i%100 == 0:\n",
        "            for fitness, (_,_,_,_) in reward_to_gene_list:\n",
        "                if min_fitness > fitness:\n",
        "                    min_fitness = fitness\n",
        "            print(\"BEST FITNESS TO DATE: {}\".format(min_fitness))\n",
        "\n",
        "        contestants = sample(reward_to_gene_list, N)\n",
        "        tournament_winner = run_tournament(contestants)\n",
        "        fitness, (OP_gene,memory_arr, args_gene, out_gene) = tournament_winner\n",
        "        new_child = mutate_winner(tournament_winner)\n",
        "        \n",
        "        preds = resolve_genome(X_arr,new_child[1][0], new_child[1][1], new_child[1][2], new_child[1][3], OP_dict  )\n",
        "        fitness = fitness_func(preds, true_y)\n",
        "\n",
        "        reward_to_gene_list.append(( fitness, (new_child[1][0], new_child[1][1], new_child[1][2], new_child[1][3])) )\n",
        "        reward_to_gene_list.pop(0)\n",
        "        \n",
        "        \n",
        "    return reward_to_gene_list"
      ],
      "metadata": {
        "id": "IAPoSRB6I-xn"
      },
      "execution_count": 115,
      "outputs": []
    },
    {
      "cell_type": "code",
      "source": [
        "from numba import jit\n",
        "import torch \n",
        "X_arr = np.array([10,22,500,404])\n",
        "memory_arr = initialize_memory(memory_size = 3, element_type = \"scalar\", matrix_size= (2,2), start=-2, end=2)\n",
        "#prev_arr = pick_prev_args()\n",
        "\n",
        "\n",
        "\n",
        "## TODO Might need to add vector and scalar memory later\n",
        "def resolve_genome(X_vals,genome_OPs = None, memory_arr = memory_arr, args_locations= None, output_locations = None ,OP_dict = OP_dict):\n",
        "    final_results_arr = np.empty_like(X_arr).astype(float)\n",
        "    for X_idx in range(len(X_vals)):\n",
        "        memory_arr[1] = X_vals[X_idx]\n",
        "        for gene_idx in range(0,len(genome_OPs)):\n",
        "            \n",
        "            OP_to_apply, max_args = OP_dict[genome_OPs[gene_idx][0]]\n",
        "\n",
        "            ## We get max_args locations in memory + output location in memory\n",
        "\n",
        "            args = memory_arr [ args_locations[gene_idx,:max_args]]\n",
        "            memory_arr[output_locations[gene_idx]] = OP_to_apply(*args)\n",
        "        #try:\n",
        "        final_results_arr[X_idx] = memory_arr[0]\n",
        "        #except ValueError:\n",
        "        #    final_results_arr[X_idx] = -1 # Nan\n",
        "#        except OverflowError:\n",
        "#            final_results_arr[X_idx] = -1 # inf\n",
        "\n",
        "            \n",
        "    return final_results_arr\n",
        "\n"
      ],
      "metadata": {
        "id": "PNlV8DbP33uC"
      },
      "execution_count": 116,
      "outputs": []
    },
    {
      "cell_type": "code",
      "source": [
        "from tqdm import tqdm\n",
        "N_ARGS = 2\n",
        "OP_DEPTH = 3\n",
        "X_arr = np.array([10,22, 5000, 300])\n",
        "y_true = (X_arr // 2)+50\n",
        "POPULATION_COUNT = 100\n",
        "def half_fitness(preds, HALVED):\n",
        "    return np.sum(np.abs(preds - HALVED))\n",
        "\n",
        "reward_to_gene_list = initialialize_population(X_arr,y_true = y_true, fitness_func =half_fitness, population_count = POPULATION_COUNT, op_depth = OP_DEPTH, memory_size = MEMORY_SIZE , OP_dict = OP_dict,max_arg = 2)\n",
        "\n",
        "final_genome = run_evolution(X_arr,iters = 100000, fitness_func = half_fitness, \\\n",
        "                             reward_to_gene_list=reward_to_gene_list, N=10, \\\n",
        "                             population = POPULATION_COUNT, \\\n",
        "                             beta = 100)\n"
      ],
      "metadata": {
        "colab": {
          "base_uri": "https://localhost:8080/"
        },
        "id": "B11N0-xFJRA8",
        "outputId": "d7b6ba42-415e-4f11-b66f-0a1ca6c719f1"
      },
      "execution_count": 120,
      "outputs": [
        {
          "output_type": "stream",
          "name": "stderr",
          "text": [
            "/usr/local/lib/python3.7/dist-packages/ipykernel_launcher.py:21: RuntimeWarning: invalid value encountered in log\n",
            "  0%|          | 0/100000 [00:00<?, ?it/s]/usr/local/lib/python3.7/dist-packages/ipykernel_launcher.py:21: RuntimeWarning: overflow encountered in multiply\n",
            "/usr/local/lib/python3.7/dist-packages/ipykernel_launcher.py:21: RuntimeWarning: invalid value encountered in true_divide\n",
            "  0%|          | 444/100000 [00:00<00:22, 4436.68it/s]/usr/local/lib/python3.7/dist-packages/ipykernel_launcher.py:21: RuntimeWarning: divide by zero encountered in reciprocal\n",
            "/usr/local/lib/python3.7/dist-packages/ipykernel_launcher.py:21: RuntimeWarning: invalid value encountered in subtract\n"
          ]
        },
        {
          "output_type": "stream",
          "name": "stdout",
          "text": [
            "BEST FITNESS TO DATE: 2633.9999999999995\n",
            "BEST FITNESS TO DATE: 2633.9999999999995\n",
            "BEST FITNESS TO DATE: 2631.4480868904134\n",
            "BEST FITNESS TO DATE: 2631.4480868904134\n",
            "BEST FITNESS TO DATE: 2624.172383335332\n",
            "BEST FITNESS TO DATE: 1493.7022709920457\n",
            "BEST FITNESS TO DATE: 1806.2579528039346\n",
            "BEST FITNESS TO DATE: 880.9849791061393\n",
            "BEST FITNESS TO DATE: 880.9849791061393\n"
          ]
        },
        {
          "output_type": "stream",
          "name": "stderr",
          "text": [
            "  1%|          | 888/100000 [00:00<00:23, 4214.99it/s]/usr/local/lib/python3.7/dist-packages/ipykernel_launcher.py:21: RuntimeWarning: divide by zero encountered in log\n",
            "  2%|▏         | 1799/100000 [00:00<00:22, 4425.36it/s]"
          ]
        },
        {
          "output_type": "stream",
          "name": "stdout",
          "text": [
            "BEST FITNESS TO DATE: 880.9849791061393\n",
            "BEST FITNESS TO DATE: 873.333810901394\n",
            "BEST FITNESS TO DATE: 880.9849791061393\n",
            "BEST FITNESS TO DATE: 880.9849791061393\n",
            "BEST FITNESS TO DATE: 880.9849791061393\n",
            "BEST FITNESS TO DATE: 880.9849791061393\n",
            "BEST FITNESS TO DATE: 880.9849791061393\n",
            "BEST FITNESS TO DATE: 880.9849791061393\n",
            "BEST FITNESS TO DATE: 880.9849791061393\n",
            "BEST FITNESS TO DATE: 880.9849791061393\n"
          ]
        },
        {
          "output_type": "stream",
          "name": "stderr",
          "text": [
            "  2%|▏         | 2275/100000 [00:00<00:21, 4544.12it/s]/usr/local/lib/python3.7/dist-packages/ipykernel_launcher.py:21: RuntimeWarning: divide by zero encountered in true_divide\n",
            "  3%|▎         | 2743/100000 [00:00<00:21, 4589.24it/s]"
          ]
        },
        {
          "output_type": "stream",
          "name": "stdout",
          "text": [
            "BEST FITNESS TO DATE: 880.9849791061393\n",
            "BEST FITNESS TO DATE: 880.9849791061393\n",
            "BEST FITNESS TO DATE: 880.9849791061393\n",
            "BEST FITNESS TO DATE: 880.9849791061393\n",
            "BEST FITNESS TO DATE: 396.3798268098101\n",
            "BEST FITNESS TO DATE: 396.3798268098101\n",
            "BEST FITNESS TO DATE: 396.3798268098101\n",
            "BEST FITNESS TO DATE: 396.3798268098101\n",
            "BEST FITNESS TO DATE: 396.3798268098101\n",
            "BEST FITNESS TO DATE: 396.3798268098101\n"
          ]
        },
        {
          "output_type": "stream",
          "name": "stderr",
          "text": [
            "  4%|▍         | 3773/100000 [00:00<00:19, 4895.91it/s]"
          ]
        },
        {
          "output_type": "stream",
          "name": "stdout",
          "text": [
            "BEST FITNESS TO DATE: 396.3798268098101\n",
            "BEST FITNESS TO DATE: 0.0\n",
            "BEST FITNESS TO DATE: 0.0\n",
            "BEST FITNESS TO DATE: 0.0\n",
            "BEST FITNESS TO DATE: 0.0\n",
            "BEST FITNESS TO DATE: 0.0\n",
            "BEST FITNESS TO DATE: 0.0\n",
            "BEST FITNESS TO DATE: 0.0\n",
            "BEST FITNESS TO DATE: 0.0\n",
            "BEST FITNESS TO DATE: 0.0\n",
            "BEST FITNESS TO DATE: 0.0\n"
          ]
        },
        {
          "output_type": "stream",
          "name": "stderr",
          "text": [
            "  5%|▍         | 4746/100000 [00:01<00:20, 4746.07it/s]"
          ]
        },
        {
          "output_type": "stream",
          "name": "stdout",
          "text": [
            "BEST FITNESS TO DATE: 0.0\n",
            "BEST FITNESS TO DATE: 0.0\n",
            "BEST FITNESS TO DATE: 0.0\n",
            "BEST FITNESS TO DATE: 0.0\n",
            "BEST FITNESS TO DATE: 0.0\n",
            "BEST FITNESS TO DATE: 0.0\n",
            "BEST FITNESS TO DATE: 0.0\n",
            "BEST FITNESS TO DATE: 0.0\n",
            "BEST FITNESS TO DATE: 0.0\n",
            "BEST FITNESS TO DATE: 0.0\n"
          ]
        },
        {
          "output_type": "stream",
          "name": "stderr",
          "text": [
            "  6%|▌         | 5692/100000 [00:01<00:20, 4601.86it/s]"
          ]
        },
        {
          "output_type": "stream",
          "name": "stdout",
          "text": [
            "BEST FITNESS TO DATE: 0.0\n",
            "BEST FITNESS TO DATE: 0.0\n",
            "BEST FITNESS TO DATE: 0.0\n",
            "BEST FITNESS TO DATE: 0.0\n",
            "BEST FITNESS TO DATE: 0.0\n",
            "BEST FITNESS TO DATE: 0.0\n",
            "BEST FITNESS TO DATE: 0.0\n",
            "BEST FITNESS TO DATE: 0.0\n",
            "BEST FITNESS TO DATE: 0.0\n",
            "BEST FITNESS TO DATE: 0.0\n"
          ]
        },
        {
          "output_type": "stream",
          "name": "stderr",
          "text": [
            "  7%|▋         | 6655/100000 [00:01<00:19, 4718.77it/s]"
          ]
        },
        {
          "output_type": "stream",
          "name": "stdout",
          "text": [
            "BEST FITNESS TO DATE: 0.0\n",
            "BEST FITNESS TO DATE: 0.0\n",
            "BEST FITNESS TO DATE: 0.0\n",
            "BEST FITNESS TO DATE: 0.0\n",
            "BEST FITNESS TO DATE: 0.0\n",
            "BEST FITNESS TO DATE: 0.0\n",
            "BEST FITNESS TO DATE: 0.0\n",
            "BEST FITNESS TO DATE: 0.0\n",
            "BEST FITNESS TO DATE: 0.0\n",
            "BEST FITNESS TO DATE: 0.0\n"
          ]
        },
        {
          "output_type": "stream",
          "name": "stderr",
          "text": [
            "  8%|▊         | 7608/100000 [00:01<00:19, 4701.24it/s]"
          ]
        },
        {
          "output_type": "stream",
          "name": "stdout",
          "text": [
            "BEST FITNESS TO DATE: 0.0\n",
            "BEST FITNESS TO DATE: 0.0\n",
            "BEST FITNESS TO DATE: 0.0\n",
            "BEST FITNESS TO DATE: 0.0\n",
            "BEST FITNESS TO DATE: 0.0\n",
            "BEST FITNESS TO DATE: 0.0\n",
            "BEST FITNESS TO DATE: 0.0\n",
            "BEST FITNESS TO DATE: 0.0\n",
            "BEST FITNESS TO DATE: 0.0\n",
            "BEST FITNESS TO DATE: 0.0\n"
          ]
        },
        {
          "output_type": "stream",
          "name": "stderr",
          "text": [
            "  9%|▊         | 8572/100000 [00:01<00:19, 4672.33it/s]"
          ]
        },
        {
          "output_type": "stream",
          "name": "stdout",
          "text": [
            "BEST FITNESS TO DATE: 0.0\n",
            "BEST FITNESS TO DATE: 0.0\n",
            "BEST FITNESS TO DATE: 0.0\n",
            "BEST FITNESS TO DATE: 0.0\n",
            "BEST FITNESS TO DATE: 0.0\n",
            "BEST FITNESS TO DATE: 0.0\n",
            "BEST FITNESS TO DATE: 0.0\n",
            "BEST FITNESS TO DATE: 0.0\n",
            "BEST FITNESS TO DATE: 0.0\n",
            "BEST FITNESS TO DATE: 0.0\n"
          ]
        },
        {
          "output_type": "stream",
          "name": "stderr",
          "text": [
            " 10%|▉         | 9538/100000 [00:02<00:19, 4717.85it/s]"
          ]
        },
        {
          "output_type": "stream",
          "name": "stdout",
          "text": [
            "BEST FITNESS TO DATE: 0.0\n",
            "BEST FITNESS TO DATE: 0.0\n",
            "BEST FITNESS TO DATE: 0.0\n",
            "BEST FITNESS TO DATE: 0.0\n",
            "BEST FITNESS TO DATE: 0.0\n",
            "BEST FITNESS TO DATE: 0.0\n",
            "BEST FITNESS TO DATE: 0.0\n",
            "BEST FITNESS TO DATE: 0.0\n",
            "BEST FITNESS TO DATE: 0.0\n",
            "BEST FITNESS TO DATE: 0.0\n",
            "BEST FITNESS TO DATE: 0.0\n"
          ]
        },
        {
          "output_type": "stream",
          "name": "stderr",
          "text": [
            " 11%|█         | 10977/100000 [00:02<00:19, 4618.56it/s]"
          ]
        },
        {
          "output_type": "stream",
          "name": "stdout",
          "text": [
            "BEST FITNESS TO DATE: 0.0\n",
            "BEST FITNESS TO DATE: 0.0\n",
            "BEST FITNESS TO DATE: 0.0\n",
            "BEST FITNESS TO DATE: 0.0\n",
            "BEST FITNESS TO DATE: 0.0\n",
            "BEST FITNESS TO DATE: 0.0\n",
            "BEST FITNESS TO DATE: 0.0\n",
            "BEST FITNESS TO DATE: 0.0\n",
            "BEST FITNESS TO DATE: 0.0\n"
          ]
        },
        {
          "output_type": "stream",
          "name": "stderr",
          "text": [
            " 12%|█▏        | 11901/100000 [00:02<00:19, 4579.83it/s]"
          ]
        },
        {
          "output_type": "stream",
          "name": "stdout",
          "text": [
            "BEST FITNESS TO DATE: 0.0\n",
            "BEST FITNESS TO DATE: 0.0\n",
            "BEST FITNESS TO DATE: 0.0\n",
            "BEST FITNESS TO DATE: 0.0\n",
            "BEST FITNESS TO DATE: 0.0\n",
            "BEST FITNESS TO DATE: 0.0\n",
            "BEST FITNESS TO DATE: 0.0\n",
            "BEST FITNESS TO DATE: 0.0\n",
            "BEST FITNESS TO DATE: 0.0\n",
            "BEST FITNESS TO DATE: 0.0\n"
          ]
        },
        {
          "output_type": "stream",
          "name": "stderr",
          "text": [
            " 12%|█▏        | 12396/100000 [00:02<00:18, 4687.83it/s]/usr/local/lib/python3.7/dist-packages/ipykernel_launcher.py:21: RuntimeWarning: invalid value encountered in multiply\n",
            " 13%|█▎        | 12882/100000 [00:02<00:18, 4736.42it/s]"
          ]
        },
        {
          "output_type": "stream",
          "name": "stdout",
          "text": [
            "BEST FITNESS TO DATE: 0.0\n",
            "BEST FITNESS TO DATE: 0.0\n",
            "BEST FITNESS TO DATE: 0.0\n",
            "BEST FITNESS TO DATE: 0.0\n",
            "BEST FITNESS TO DATE: 0.0\n",
            "BEST FITNESS TO DATE: 0.0\n",
            "BEST FITNESS TO DATE: 0.0\n",
            "BEST FITNESS TO DATE: 0.0\n",
            "BEST FITNESS TO DATE: 0.0\n",
            "BEST FITNESS TO DATE: 0.0\n"
          ]
        },
        {
          "output_type": "stream",
          "name": "stderr",
          "text": [
            " 14%|█▍        | 13823/100000 [00:02<00:18, 4623.19it/s]"
          ]
        },
        {
          "output_type": "stream",
          "name": "stdout",
          "text": [
            "BEST FITNESS TO DATE: 0.0\n",
            "BEST FITNESS TO DATE: 0.0\n",
            "BEST FITNESS TO DATE: 0.0\n",
            "BEST FITNESS TO DATE: 0.0\n",
            "BEST FITNESS TO DATE: 0.0\n",
            "BEST FITNESS TO DATE: 0.0\n",
            "BEST FITNESS TO DATE: 0.0\n",
            "BEST FITNESS TO DATE: 0.0\n",
            "BEST FITNESS TO DATE: 0.0\n",
            "BEST FITNESS TO DATE: 0.0\n"
          ]
        },
        {
          "output_type": "stream",
          "name": "stderr",
          "text": [
            " 15%|█▍        | 14768/100000 [00:03<00:18, 4626.61it/s]"
          ]
        },
        {
          "output_type": "stream",
          "name": "stdout",
          "text": [
            "BEST FITNESS TO DATE: 0.0\n",
            "BEST FITNESS TO DATE: 0.0\n",
            "BEST FITNESS TO DATE: 0.0\n",
            "BEST FITNESS TO DATE: 0.0\n",
            "BEST FITNESS TO DATE: 0.0\n",
            "BEST FITNESS TO DATE: 0.0\n",
            "BEST FITNESS TO DATE: 0.0\n",
            "BEST FITNESS TO DATE: 0.0\n",
            "BEST FITNESS TO DATE: 0.0\n",
            "BEST FITNESS TO DATE: 0.0"
          ]
        },
        {
          "output_type": "stream",
          "name": "stderr",
          "text": [
            "/usr/local/lib/python3.7/dist-packages/ipykernel_launcher.py:21: RuntimeWarning: invalid value encountered in tan\n",
            " 16%|█▌        | 15691/100000 [00:03<00:19, 4386.90it/s]"
          ]
        },
        {
          "output_type": "stream",
          "name": "stdout",
          "text": [
            "\n",
            "BEST FITNESS TO DATE: 0.0\n",
            "BEST FITNESS TO DATE: 0.0\n",
            "BEST FITNESS TO DATE: 0.0\n",
            "BEST FITNESS TO DATE: 0.0\n",
            "BEST FITNESS TO DATE: 0.0\n",
            "BEST FITNESS TO DATE: 0.0\n",
            "BEST FITNESS TO DATE: 0.0\n",
            "BEST FITNESS TO DATE: 0.0\n"
          ]
        },
        {
          "output_type": "stream",
          "name": "stderr",
          "text": [
            " 17%|█▋        | 16601/100000 [00:03<00:18, 4459.80it/s]"
          ]
        },
        {
          "output_type": "stream",
          "name": "stdout",
          "text": [
            "BEST FITNESS TO DATE: 0.0\n",
            "BEST FITNESS TO DATE: 0.0\n",
            "BEST FITNESS TO DATE: 0.0\n",
            "BEST FITNESS TO DATE: 0.0\n",
            "BEST FITNESS TO DATE: 0.0\n",
            "BEST FITNESS TO DATE: 0.0\n",
            "BEST FITNESS TO DATE: 0.0\n",
            "BEST FITNESS TO DATE: 0.0\n",
            "BEST FITNESS TO DATE: 0.0\n",
            "BEST FITNESS TO DATE: 0.0\n"
          ]
        },
        {
          "output_type": "stream",
          "name": "stderr",
          "text": [
            " 18%|█▊        | 17501/100000 [00:03<00:18, 4449.33it/s]"
          ]
        },
        {
          "output_type": "stream",
          "name": "stdout",
          "text": [
            "BEST FITNESS TO DATE: 0.0\n",
            "BEST FITNESS TO DATE: 0.0\n",
            "BEST FITNESS TO DATE: 0.0\n",
            "BEST FITNESS TO DATE: 0.0\n",
            "BEST FITNESS TO DATE: 0.0\n",
            "BEST FITNESS TO DATE: 0.0\n",
            "BEST FITNESS TO DATE: 0.0\n",
            "BEST FITNESS TO DATE: 0.0\n",
            "BEST FITNESS TO DATE: 0.0\n",
            "BEST FITNESS TO DATE: 0.0\n"
          ]
        },
        {
          "output_type": "stream",
          "name": "stderr",
          "text": [
            " 18%|█▊        | 18396/100000 [00:04<00:18, 4453.20it/s]"
          ]
        },
        {
          "output_type": "stream",
          "name": "stdout",
          "text": [
            "BEST FITNESS TO DATE: 0.0\n",
            "BEST FITNESS TO DATE: 0.0\n",
            "BEST FITNESS TO DATE: 0.0\n",
            "BEST FITNESS TO DATE: 0.0\n",
            "BEST FITNESS TO DATE: 0.0\n",
            "BEST FITNESS TO DATE: 0.0\n",
            "BEST FITNESS TO DATE: 0.0\n",
            "BEST FITNESS TO DATE: 0.0\n",
            "BEST FITNESS TO DATE: 0.0\n"
          ]
        },
        {
          "output_type": "stream",
          "name": "stderr",
          "text": [
            "/usr/local/lib/python3.7/dist-packages/ipykernel_launcher.py:21: RuntimeWarning: invalid value encountered in cos\n",
            " 19%|█▉        | 19312/100000 [00:04<00:18, 4365.99it/s]"
          ]
        },
        {
          "output_type": "stream",
          "name": "stdout",
          "text": [
            "BEST FITNESS TO DATE: 0.0\n",
            "BEST FITNESS TO DATE: 0.0\n",
            "BEST FITNESS TO DATE: 0.0\n",
            "BEST FITNESS TO DATE: 0.0\n",
            "BEST FITNESS TO DATE: 0.0\n",
            "BEST FITNESS TO DATE: 0.0\n",
            "BEST FITNESS TO DATE: 0.0\n",
            "BEST FITNESS TO DATE: 0.0\n",
            "BEST FITNESS TO DATE: 0.0\n"
          ]
        },
        {
          "output_type": "stream",
          "name": "stderr",
          "text": [
            " 20%|██        | 20230/100000 [00:04<00:17, 4459.12it/s]"
          ]
        },
        {
          "output_type": "stream",
          "name": "stdout",
          "text": [
            "BEST FITNESS TO DATE: 0.0\n",
            "BEST FITNESS TO DATE: 0.0\n",
            "BEST FITNESS TO DATE: 0.0\n",
            "BEST FITNESS TO DATE: 0.0\n",
            "BEST FITNESS TO DATE: 0.0\n",
            "BEST FITNESS TO DATE: 0.0\n",
            "BEST FITNESS TO DATE: 0.0\n",
            "BEST FITNESS TO DATE: 0.0\n",
            "BEST FITNESS TO DATE: 0.0\n",
            "BEST FITNESS TO DATE: 0.0\n"
          ]
        },
        {
          "output_type": "stream",
          "name": "stderr",
          "text": [
            " 21%|██        | 21158/100000 [00:04<00:17, 4428.24it/s]"
          ]
        },
        {
          "output_type": "stream",
          "name": "stdout",
          "text": [
            "BEST FITNESS TO DATE: 0.0\n",
            "BEST FITNESS TO DATE: 0.0\n",
            "BEST FITNESS TO DATE: 0.0\n",
            "BEST FITNESS TO DATE: 0.0\n",
            "BEST FITNESS TO DATE: 0.0\n",
            "BEST FITNESS TO DATE: 0.0\n",
            "BEST FITNESS TO DATE: 0.0\n",
            "BEST FITNESS TO DATE: 0.0\n",
            "BEST FITNESS TO DATE: 0.0\n",
            "BEST FITNESS TO DATE: 0.0\n"
          ]
        },
        {
          "output_type": "stream",
          "name": "stderr",
          "text": [
            " 22%|██▏       | 22090/100000 [00:04<00:17, 4550.39it/s]"
          ]
        },
        {
          "output_type": "stream",
          "name": "stdout",
          "text": [
            "BEST FITNESS TO DATE: 0.0\n",
            "BEST FITNESS TO DATE: 0.0\n",
            "BEST FITNESS TO DATE: 0.0\n",
            "BEST FITNESS TO DATE: 0.0\n",
            "BEST FITNESS TO DATE: 0.0\n",
            "BEST FITNESS TO DATE: 0.0\n",
            "BEST FITNESS TO DATE: 0.0\n",
            "BEST FITNESS TO DATE: 0.0\n",
            "BEST FITNESS TO DATE: 0.0\n",
            "BEST FITNESS TO DATE: 0.0\n"
          ]
        },
        {
          "output_type": "stream",
          "name": "stderr",
          "text": [
            " 23%|██▎       | 22546/100000 [00:04<00:17, 4519.49it/s]/usr/local/lib/python3.7/dist-packages/ipykernel_launcher.py:21: RuntimeWarning: invalid value encountered in sin\n",
            " 24%|██▎       | 23577/100000 [00:05<00:15, 4835.52it/s]"
          ]
        },
        {
          "output_type": "stream",
          "name": "stdout",
          "text": [
            "BEST FITNESS TO DATE: 0.0\n",
            "BEST FITNESS TO DATE: 0.0\n",
            "BEST FITNESS TO DATE: 0.0\n",
            "BEST FITNESS TO DATE: 0.0\n",
            "BEST FITNESS TO DATE: 0.0\n",
            "BEST FITNESS TO DATE: 0.0\n",
            "BEST FITNESS TO DATE: 0.0\n",
            "BEST FITNESS TO DATE: 0.0\n",
            "BEST FITNESS TO DATE: 0.0\n",
            "BEST FITNESS TO DATE: 0.0\n",
            "BEST FITNESS TO DATE: 0.0\n"
          ]
        },
        {
          "output_type": "stream",
          "name": "stderr",
          "text": [
            " 25%|██▍       | 24539/100000 [00:05<00:16, 4567.21it/s]"
          ]
        },
        {
          "output_type": "stream",
          "name": "stdout",
          "text": [
            "BEST FITNESS TO DATE: 0.0\n",
            "BEST FITNESS TO DATE: 0.0\n",
            "BEST FITNESS TO DATE: 0.0\n",
            "BEST FITNESS TO DATE: 0.0\n",
            "BEST FITNESS TO DATE: 0.0\n",
            "BEST FITNESS TO DATE: 0.0\n",
            "BEST FITNESS TO DATE: 0.0\n",
            "BEST FITNESS TO DATE: 0.0\n",
            "BEST FITNESS TO DATE: 0.0\n"
          ]
        },
        {
          "output_type": "stream",
          "name": "stderr",
          "text": [
            " 25%|██▍       | 24998/100000 [00:05<00:16, 4545.71it/s]/usr/local/lib/python3.7/dist-packages/ipykernel_launcher.py:21: RuntimeWarning: overflow encountered in true_divide\n",
            " 26%|██▌       | 25507/100000 [00:05<00:15, 4703.10it/s]"
          ]
        },
        {
          "output_type": "stream",
          "name": "stdout",
          "text": [
            "BEST FITNESS TO DATE: 0.0\n",
            "BEST FITNESS TO DATE: 0.0\n",
            "BEST FITNESS TO DATE: 0.0\n",
            "BEST FITNESS TO DATE: 0.0\n",
            "BEST FITNESS TO DATE: 0.0\n",
            "BEST FITNESS TO DATE: 0.0\n",
            "BEST FITNESS TO DATE: 0.0\n",
            "BEST FITNESS TO DATE: 0.0\n",
            "BEST FITNESS TO DATE: 0.0\n",
            "BEST FITNESS TO DATE: 0.0\n"
          ]
        },
        {
          "output_type": "stream",
          "name": "stderr",
          "text": [
            " 26%|██▋       | 26449/100000 [00:05<00:15, 4635.21it/s]"
          ]
        },
        {
          "output_type": "stream",
          "name": "stdout",
          "text": [
            "BEST FITNESS TO DATE: 0.0\n",
            "BEST FITNESS TO DATE: 0.0\n",
            "BEST FITNESS TO DATE: 0.0\n",
            "BEST FITNESS TO DATE: 0.0\n",
            "BEST FITNESS TO DATE: 0.0\n",
            "BEST FITNESS TO DATE: 0.0\n",
            "BEST FITNESS TO DATE: 0.0\n",
            "BEST FITNESS TO DATE: 0.0\n",
            "BEST FITNESS TO DATE: 0.0\n",
            "BEST FITNESS TO DATE: 0.0\n"
          ]
        },
        {
          "output_type": "stream",
          "name": "stderr",
          "text": [
            " 27%|██▋       | 27404/100000 [00:05<00:15, 4678.23it/s]"
          ]
        },
        {
          "output_type": "stream",
          "name": "stdout",
          "text": [
            "BEST FITNESS TO DATE: 0.0\n",
            "BEST FITNESS TO DATE: 0.0\n",
            "BEST FITNESS TO DATE: 0.0\n",
            "BEST FITNESS TO DATE: 0.0\n",
            "BEST FITNESS TO DATE: 0.0\n",
            "BEST FITNESS TO DATE: 0.0\n",
            "BEST FITNESS TO DATE: 0.0\n",
            "BEST FITNESS TO DATE: 0.0\n",
            "BEST FITNESS TO DATE: 0.0\n",
            "BEST FITNESS TO DATE: 0.0\n"
          ]
        },
        {
          "output_type": "stream",
          "name": "stderr",
          "text": [
            " 28%|██▊       | 28330/100000 [00:06<00:15, 4549.01it/s]"
          ]
        },
        {
          "output_type": "stream",
          "name": "stdout",
          "text": [
            "BEST FITNESS TO DATE: 0.0\n",
            "BEST FITNESS TO DATE: 0.0\n",
            "BEST FITNESS TO DATE: 0.0\n",
            "BEST FITNESS TO DATE: 0.0\n",
            "BEST FITNESS TO DATE: 0.0\n",
            "BEST FITNESS TO DATE: 0.0\n",
            "BEST FITNESS TO DATE: 0.0\n",
            "BEST FITNESS TO DATE: 0.0\n",
            "BEST FITNESS TO DATE: 0.0\n"
          ]
        },
        {
          "output_type": "stream",
          "name": "stderr",
          "text": [
            " 29%|██▉       | 29234/100000 [00:06<00:15, 4442.41it/s]"
          ]
        },
        {
          "output_type": "stream",
          "name": "stdout",
          "text": [
            "BEST FITNESS TO DATE: 0.0\n",
            "BEST FITNESS TO DATE: 0.0\n",
            "BEST FITNESS TO DATE: 0.0\n",
            "BEST FITNESS TO DATE: 0.0\n",
            "BEST FITNESS TO DATE: 0.0\n",
            "BEST FITNESS TO DATE: 0.0\n",
            "BEST FITNESS TO DATE: 0.0\n",
            "BEST FITNESS TO DATE: 0.0\n",
            "BEST FITNESS TO DATE: 0.0\n",
            "BEST FITNESS TO DATE: 0.0\n"
          ]
        },
        {
          "output_type": "stream",
          "name": "stderr",
          "text": [
            " 30%|███       | 30192/100000 [00:06<00:15, 4613.16it/s]"
          ]
        },
        {
          "output_type": "stream",
          "name": "stdout",
          "text": [
            "BEST FITNESS TO DATE: 0.0\n",
            "BEST FITNESS TO DATE: 0.0\n",
            "BEST FITNESS TO DATE: 0.0\n",
            "BEST FITNESS TO DATE: 0.0\n",
            "BEST FITNESS TO DATE: 0.0\n",
            "BEST FITNESS TO DATE: 0.0\n",
            "BEST FITNESS TO DATE: 0.0\n",
            "BEST FITNESS TO DATE: 0.0\n",
            "BEST FITNESS TO DATE: 0.0\n",
            "BEST FITNESS TO DATE: 0.0\n"
          ]
        },
        {
          "output_type": "stream",
          "name": "stderr",
          "text": [
            " 31%|███       | 31118/100000 [00:06<00:15, 4548.67it/s]"
          ]
        },
        {
          "output_type": "stream",
          "name": "stdout",
          "text": [
            "BEST FITNESS TO DATE: 0.0\n",
            "BEST FITNESS TO DATE: 0.0\n",
            "BEST FITNESS TO DATE: 0.0\n",
            "BEST FITNESS TO DATE: 0.0\n",
            "BEST FITNESS TO DATE: 0.0\n",
            "BEST FITNESS TO DATE: 0.0\n",
            "BEST FITNESS TO DATE: 0.0\n",
            "BEST FITNESS TO DATE: 0.0\n",
            "BEST FITNESS TO DATE: 0.0\n",
            "BEST FITNESS TO DATE: 0.0\n"
          ]
        },
        {
          "output_type": "stream",
          "name": "stderr",
          "text": [
            " 32%|███▏      | 32085/100000 [00:07<00:14, 4689.95it/s]"
          ]
        },
        {
          "output_type": "stream",
          "name": "stdout",
          "text": [
            "BEST FITNESS TO DATE: 0.0\n",
            "BEST FITNESS TO DATE: 0.0\n",
            "BEST FITNESS TO DATE: 0.0\n",
            "BEST FITNESS TO DATE: 0.0\n",
            "BEST FITNESS TO DATE: 0.0\n",
            "BEST FITNESS TO DATE: 0.0\n",
            "BEST FITNESS TO DATE: 0.0\n",
            "BEST FITNESS TO DATE: 0.0\n",
            "BEST FITNESS TO DATE: 0.0\n",
            "BEST FITNESS TO DATE: 0.0\n"
          ]
        },
        {
          "output_type": "stream",
          "name": "stderr",
          "text": [
            " 33%|███▎      | 33034/100000 [00:07<00:14, 4715.09it/s]"
          ]
        },
        {
          "output_type": "stream",
          "name": "stdout",
          "text": [
            "BEST FITNESS TO DATE: 0.0\n",
            "BEST FITNESS TO DATE: 0.0\n",
            "BEST FITNESS TO DATE: 0.0\n",
            "BEST FITNESS TO DATE: 0.0\n",
            "BEST FITNESS TO DATE: 0.0\n",
            "BEST FITNESS TO DATE: 0.0\n",
            "BEST FITNESS TO DATE: 0.0\n",
            "BEST FITNESS TO DATE: 0.0\n",
            "BEST FITNESS TO DATE: 0.0\n",
            "BEST FITNESS TO DATE: 0.0\n"
          ]
        },
        {
          "output_type": "stream",
          "name": "stderr",
          "text": [
            " 34%|███▍      | 33972/100000 [00:07<00:14, 4424.17it/s]"
          ]
        },
        {
          "output_type": "stream",
          "name": "stdout",
          "text": [
            "BEST FITNESS TO DATE: 0.0\n",
            "BEST FITNESS TO DATE: 0.0\n",
            "BEST FITNESS TO DATE: 0.0\n",
            "BEST FITNESS TO DATE: 0.0\n",
            "BEST FITNESS TO DATE: 0.0\n",
            "BEST FITNESS TO DATE: 0.0\n",
            "BEST FITNESS TO DATE: 0.0\n",
            "BEST FITNESS TO DATE: 0.0\n",
            "BEST FITNESS TO DATE: 0.0\n"
          ]
        },
        {
          "output_type": "stream",
          "name": "stderr",
          "text": [
            " 35%|███▍      | 34880/100000 [00:07<00:14, 4453.22it/s]"
          ]
        },
        {
          "output_type": "stream",
          "name": "stdout",
          "text": [
            "BEST FITNESS TO DATE: 0.0\n",
            "BEST FITNESS TO DATE: 0.0\n",
            "BEST FITNESS TO DATE: 0.0\n",
            "BEST FITNESS TO DATE: 0.0\n",
            "BEST FITNESS TO DATE: 0.0\n",
            "BEST FITNESS TO DATE: 0.0\n",
            "BEST FITNESS TO DATE: 0.0\n",
            "BEST FITNESS TO DATE: 0.0\n",
            "BEST FITNESS TO DATE: 0.0\n",
            "BEST FITNESS TO DATE: 0.0\n"
          ]
        },
        {
          "output_type": "stream",
          "name": "stderr",
          "text": [
            " 36%|███▋      | 36279/100000 [00:07<00:13, 4601.96it/s]"
          ]
        },
        {
          "output_type": "stream",
          "name": "stdout",
          "text": [
            "BEST FITNESS TO DATE: 0.0\n",
            "BEST FITNESS TO DATE: 0.0\n",
            "BEST FITNESS TO DATE: 0.0\n",
            "BEST FITNESS TO DATE: 0.0\n",
            "BEST FITNESS TO DATE: 0.0\n",
            "BEST FITNESS TO DATE: 0.0\n",
            "BEST FITNESS TO DATE: 0.0\n",
            "BEST FITNESS TO DATE: 0.0\n",
            "BEST FITNESS TO DATE: 0.0\n",
            "BEST FITNESS TO DATE: 0.0\n"
          ]
        },
        {
          "output_type": "stream",
          "name": "stderr",
          "text": [
            " 37%|███▋      | 37230/100000 [00:08<00:13, 4603.44it/s]"
          ]
        },
        {
          "output_type": "stream",
          "name": "stdout",
          "text": [
            "BEST FITNESS TO DATE: 0.0\n",
            "BEST FITNESS TO DATE: 0.0\n",
            "BEST FITNESS TO DATE: 0.0\n",
            "BEST FITNESS TO DATE: 0.0\n",
            "BEST FITNESS TO DATE: 0.0\n",
            "BEST FITNESS TO DATE: 0.0\n",
            "BEST FITNESS TO DATE: 0.0\n",
            "BEST FITNESS TO DATE: 0.0\n",
            "BEST FITNESS TO DATE: 0.0\n",
            "BEST FITNESS TO DATE: 0.0\n"
          ]
        },
        {
          "output_type": "stream",
          "name": "stderr",
          "text": [
            " 38%|███▊      | 38142/100000 [00:08<00:13, 4479.08it/s]"
          ]
        },
        {
          "output_type": "stream",
          "name": "stdout",
          "text": [
            "BEST FITNESS TO DATE: 0.0\n",
            "BEST FITNESS TO DATE: 0.0\n",
            "BEST FITNESS TO DATE: 0.0\n",
            "BEST FITNESS TO DATE: 0.0\n",
            "BEST FITNESS TO DATE: 0.0\n",
            "BEST FITNESS TO DATE: 0.0\n",
            "BEST FITNESS TO DATE: 0.0\n",
            "BEST FITNESS TO DATE: 0.0\n",
            "BEST FITNESS TO DATE: 0.0\n"
          ]
        },
        {
          "output_type": "stream",
          "name": "stderr",
          "text": [
            " 39%|███▉      | 39041/100000 [00:08<00:14, 4344.00it/s]"
          ]
        },
        {
          "output_type": "stream",
          "name": "stdout",
          "text": [
            "BEST FITNESS TO DATE: 0.0\n",
            "BEST FITNESS TO DATE: 0.0\n",
            "BEST FITNESS TO DATE: 0.0\n",
            "BEST FITNESS TO DATE: 0.0\n",
            "BEST FITNESS TO DATE: 0.0\n",
            "BEST FITNESS TO DATE: 0.0\n",
            "BEST FITNESS TO DATE: 0.0\n",
            "BEST FITNESS TO DATE: 0.0\n",
            "BEST FITNESS TO DATE: 0.0\n",
            "BEST FITNESS TO DATE: 0.0\n"
          ]
        },
        {
          "output_type": "stream",
          "name": "stderr",
          "text": [
            " 40%|████      | 40003/100000 [00:08<00:13, 4598.57it/s]"
          ]
        },
        {
          "output_type": "stream",
          "name": "stdout",
          "text": [
            "BEST FITNESS TO DATE: 0.0\n",
            "BEST FITNESS TO DATE: 0.0\n",
            "BEST FITNESS TO DATE: 0.0\n",
            "BEST FITNESS TO DATE: 0.0\n",
            "BEST FITNESS TO DATE: 0.0\n",
            "BEST FITNESS TO DATE: 0.0\n",
            "BEST FITNESS TO DATE: 0.0\n",
            "BEST FITNESS TO DATE: 0.0\n",
            "BEST FITNESS TO DATE: 0.0\n",
            "BEST FITNESS TO DATE: 0.0\n",
            "BEST FITNESS TO DATE: 0.0\n"
          ]
        },
        {
          "output_type": "stream",
          "name": "stderr",
          "text": [
            " 41%|████      | 40953/100000 [00:08<00:12, 4679.85it/s]"
          ]
        },
        {
          "output_type": "stream",
          "name": "stdout",
          "text": [
            "BEST FITNESS TO DATE: 0.0\n",
            "BEST FITNESS TO DATE: 0.0\n",
            "BEST FITNESS TO DATE: 0.0\n",
            "BEST FITNESS TO DATE: 0.0\n",
            "BEST FITNESS TO DATE: 0.0\n",
            "BEST FITNESS TO DATE: 0.0\n",
            "BEST FITNESS TO DATE: 0.0\n",
            "BEST FITNESS TO DATE: 0.0\n",
            "BEST FITNESS TO DATE: 0.0\n",
            "BEST FITNESS TO DATE: 0.0\n",
            "BEST FITNESS TO DATE: 0.0\n"
          ]
        },
        {
          "output_type": "stream",
          "name": "stderr",
          "text": [
            " 42%|████▏     | 42472/100000 [00:09<00:11, 4939.36it/s]"
          ]
        },
        {
          "output_type": "stream",
          "name": "stdout",
          "text": [
            "BEST FITNESS TO DATE: 0.0\n",
            "BEST FITNESS TO DATE: 0.0\n",
            "BEST FITNESS TO DATE: 0.0\n",
            "BEST FITNESS TO DATE: 0.0\n",
            "BEST FITNESS TO DATE: 0.0\n",
            "BEST FITNESS TO DATE: 0.0\n",
            "BEST FITNESS TO DATE: 0.0\n",
            "BEST FITNESS TO DATE: 0.0\n",
            "BEST FITNESS TO DATE: 0.0\n",
            "BEST FITNESS TO DATE: 0.0\n",
            "BEST FITNESS TO DATE: 0.0\n"
          ]
        },
        {
          "output_type": "stream",
          "name": "stderr",
          "text": [
            " 43%|████▎     | 43460/100000 [00:09<00:12, 4699.86it/s]"
          ]
        },
        {
          "output_type": "stream",
          "name": "stdout",
          "text": [
            "BEST FITNESS TO DATE: 0.0\n",
            "BEST FITNESS TO DATE: 0.0\n",
            "BEST FITNESS TO DATE: 0.0\n",
            "BEST FITNESS TO DATE: 0.0\n",
            "BEST FITNESS TO DATE: 0.0\n",
            "BEST FITNESS TO DATE: 0.0\n",
            "BEST FITNESS TO DATE: 0.0\n",
            "BEST FITNESS TO DATE: 0.0\n",
            "BEST FITNESS TO DATE: 0.0\n",
            "BEST FITNESS TO DATE: 0.0\n"
          ]
        },
        {
          "output_type": "stream",
          "name": "stderr",
          "text": [
            " 44%|████▍     | 44402/100000 [00:09<00:11, 4662.06it/s]"
          ]
        },
        {
          "output_type": "stream",
          "name": "stdout",
          "text": [
            "BEST FITNESS TO DATE: 0.0\n",
            "BEST FITNESS TO DATE: 0.0\n",
            "BEST FITNESS TO DATE: 0.0\n",
            "BEST FITNESS TO DATE: 0.0\n",
            "BEST FITNESS TO DATE: 0.0\n",
            "BEST FITNESS TO DATE: 0.0\n",
            "BEST FITNESS TO DATE: 0.0\n",
            "BEST FITNESS TO DATE: 0.0\n",
            "BEST FITNESS TO DATE: 0.0\n",
            "BEST FITNESS TO DATE: 0.0\n"
          ]
        },
        {
          "output_type": "stream",
          "name": "stderr",
          "text": [
            " 45%|████▌     | 45366/100000 [00:09<00:11, 4703.22it/s]"
          ]
        },
        {
          "output_type": "stream",
          "name": "stdout",
          "text": [
            "BEST FITNESS TO DATE: 0.0\n",
            "BEST FITNESS TO DATE: 0.0\n",
            "BEST FITNESS TO DATE: 0.0\n",
            "BEST FITNESS TO DATE: 0.0\n",
            "BEST FITNESS TO DATE: 0.0\n",
            "BEST FITNESS TO DATE: 0.0\n",
            "BEST FITNESS TO DATE: 0.0\n",
            "BEST FITNESS TO DATE: 0.0\n",
            "BEST FITNESS TO DATE: 0.0\n",
            "BEST FITNESS TO DATE: 0.0\n"
          ]
        },
        {
          "output_type": "stream",
          "name": "stderr",
          "text": [
            " 46%|████▋     | 46342/100000 [00:10<00:11, 4790.89it/s]"
          ]
        },
        {
          "output_type": "stream",
          "name": "stdout",
          "text": [
            "BEST FITNESS TO DATE: 0.0\n",
            "BEST FITNESS TO DATE: 0.0\n",
            "BEST FITNESS TO DATE: 0.0\n",
            "BEST FITNESS TO DATE: 0.0\n",
            "BEST FITNESS TO DATE: 0.0\n",
            "BEST FITNESS TO DATE: 0.0\n",
            "BEST FITNESS TO DATE: 0.0\n",
            "BEST FITNESS TO DATE: 0.0\n",
            "BEST FITNESS TO DATE: 0.0\n",
            "BEST FITNESS TO DATE: 0.0\n",
            "BEST FITNESS TO DATE: 0.0\n"
          ]
        },
        {
          "output_type": "stream",
          "name": "stderr",
          "text": [
            " 47%|████▋     | 47298/100000 [00:10<00:11, 4721.43it/s]"
          ]
        },
        {
          "output_type": "stream",
          "name": "stdout",
          "text": [
            "BEST FITNESS TO DATE: 0.0\n",
            "BEST FITNESS TO DATE: 0.0\n",
            "BEST FITNESS TO DATE: 0.0\n",
            "BEST FITNESS TO DATE: 0.0\n",
            "BEST FITNESS TO DATE: 0.0\n",
            "BEST FITNESS TO DATE: 0.0\n",
            "BEST FITNESS TO DATE: 0.0\n",
            "BEST FITNESS TO DATE: 0.0\n",
            "BEST FITNESS TO DATE: 0.0\n",
            "BEST FITNESS TO DATE: 0.0\n"
          ]
        },
        {
          "output_type": "stream",
          "name": "stderr",
          "text": [
            " 48%|████▊     | 48233/100000 [00:10<00:11, 4437.06it/s]"
          ]
        },
        {
          "output_type": "stream",
          "name": "stdout",
          "text": [
            "BEST FITNESS TO DATE: 0.0\n",
            "BEST FITNESS TO DATE: 0.0\n",
            "BEST FITNESS TO DATE: 0.0\n",
            "BEST FITNESS TO DATE: 0.0\n",
            "BEST FITNESS TO DATE: 0.0\n",
            "BEST FITNESS TO DATE: 0.0\n",
            "BEST FITNESS TO DATE: 0.0\n",
            "BEST FITNESS TO DATE: 0.0\n",
            "BEST FITNESS TO DATE: 0.0\n"
          ]
        },
        {
          "output_type": "stream",
          "name": "stderr",
          "text": [
            " 49%|████▉     | 49203/100000 [00:10<00:10, 4632.24it/s]"
          ]
        },
        {
          "output_type": "stream",
          "name": "stdout",
          "text": [
            "BEST FITNESS TO DATE: 0.0\n",
            "BEST FITNESS TO DATE: 0.0\n",
            "BEST FITNESS TO DATE: 0.0\n",
            "BEST FITNESS TO DATE: 0.0\n",
            "BEST FITNESS TO DATE: 0.0\n",
            "BEST FITNESS TO DATE: 0.0\n",
            "BEST FITNESS TO DATE: 0.0\n",
            "BEST FITNESS TO DATE: 0.0\n",
            "BEST FITNESS TO DATE: 0.0\n",
            "BEST FITNESS TO DATE: 0.0\n"
          ]
        },
        {
          "output_type": "stream",
          "name": "stderr",
          "text": [
            " 50%|█████     | 50179/100000 [00:10<00:10, 4757.91it/s]"
          ]
        },
        {
          "output_type": "stream",
          "name": "stdout",
          "text": [
            "BEST FITNESS TO DATE: 0.0\n",
            "BEST FITNESS TO DATE: 0.0\n",
            "BEST FITNESS TO DATE: 0.0\n",
            "BEST FITNESS TO DATE: 0.0\n",
            "BEST FITNESS TO DATE: 0.0\n",
            "BEST FITNESS TO DATE: 0.0\n",
            "BEST FITNESS TO DATE: 0.0\n",
            "BEST FITNESS TO DATE: 0.0\n",
            "BEST FITNESS TO DATE: 0.0\n",
            "BEST FITNESS TO DATE: 0.0\n"
          ]
        },
        {
          "output_type": "stream",
          "name": "stderr",
          "text": [
            " 51%|█████     | 51148/100000 [00:11<00:10, 4730.27it/s]"
          ]
        },
        {
          "output_type": "stream",
          "name": "stdout",
          "text": [
            "BEST FITNESS TO DATE: 0.0\n",
            "BEST FITNESS TO DATE: 0.0\n",
            "BEST FITNESS TO DATE: 0.0\n",
            "BEST FITNESS TO DATE: 0.0\n",
            "BEST FITNESS TO DATE: 0.0\n",
            "BEST FITNESS TO DATE: 0.0\n",
            "BEST FITNESS TO DATE: 0.0\n",
            "BEST FITNESS TO DATE: 0.0\n",
            "BEST FITNESS TO DATE: 0.0\n",
            "BEST FITNESS TO DATE: 0.0\n"
          ]
        },
        {
          "output_type": "stream",
          "name": "stderr",
          "text": [
            " 52%|█████▏    | 52079/100000 [00:11<00:10, 4502.72it/s]"
          ]
        },
        {
          "output_type": "stream",
          "name": "stdout",
          "text": [
            "BEST FITNESS TO DATE: 0.0\n",
            "BEST FITNESS TO DATE: 0.0\n",
            "BEST FITNESS TO DATE: 0.0\n",
            "BEST FITNESS TO DATE: 0.0\n",
            "BEST FITNESS TO DATE: 0.0\n",
            "BEST FITNESS TO DATE: 0.0\n",
            "BEST FITNESS TO DATE: 0.0\n",
            "BEST FITNESS TO DATE: 0.0\n",
            "BEST FITNESS TO DATE: 0.0\n",
            "BEST FITNESS TO DATE: 0.0\n"
          ]
        },
        {
          "output_type": "stream",
          "name": "stderr",
          "text": [
            " 53%|█████▎    | 53459/100000 [00:11<00:10, 4533.81it/s]"
          ]
        },
        {
          "output_type": "stream",
          "name": "stdout",
          "text": [
            "BEST FITNESS TO DATE: 0.0\n",
            "BEST FITNESS TO DATE: 0.0\n",
            "BEST FITNESS TO DATE: 0.0\n",
            "BEST FITNESS TO DATE: 0.0\n",
            "BEST FITNESS TO DATE: 0.0\n",
            "BEST FITNESS TO DATE: 0.0\n",
            "BEST FITNESS TO DATE: 0.0\n",
            "BEST FITNESS TO DATE: 0.0\n",
            "BEST FITNESS TO DATE: 0.0\n",
            "BEST FITNESS TO DATE: 0.0\n"
          ]
        },
        {
          "output_type": "stream",
          "name": "stderr",
          "text": [
            " 54%|█████▍    | 54463/100000 [00:11<00:09, 4764.78it/s]"
          ]
        },
        {
          "output_type": "stream",
          "name": "stdout",
          "text": [
            "BEST FITNESS TO DATE: 0.0\n",
            "BEST FITNESS TO DATE: 0.0\n",
            "BEST FITNESS TO DATE: 0.0\n",
            "BEST FITNESS TO DATE: 0.0\n",
            "BEST FITNESS TO DATE: 0.0\n",
            "BEST FITNESS TO DATE: 0.0\n",
            "BEST FITNESS TO DATE: 0.0\n",
            "BEST FITNESS TO DATE: 0.0\n",
            "BEST FITNESS TO DATE: 0.0\n",
            "BEST FITNESS TO DATE: 0.0\n",
            "BEST FITNESS TO DATE: 0.0\n"
          ]
        },
        {
          "output_type": "stream",
          "name": "stderr",
          "text": [
            " 55%|█████▌    | 55443/100000 [00:12<00:09, 4817.70it/s]"
          ]
        },
        {
          "output_type": "stream",
          "name": "stdout",
          "text": [
            "BEST FITNESS TO DATE: 0.0\n",
            "BEST FITNESS TO DATE: 0.0\n",
            "BEST FITNESS TO DATE: 0.0\n",
            "BEST FITNESS TO DATE: 0.0\n",
            "BEST FITNESS TO DATE: 0.0\n",
            "BEST FITNESS TO DATE: 0.0\n",
            "BEST FITNESS TO DATE: 0.0\n",
            "BEST FITNESS TO DATE: 0.0\n",
            "BEST FITNESS TO DATE: 0.0\n",
            "BEST FITNESS TO DATE: 0.0\n"
          ]
        },
        {
          "output_type": "stream",
          "name": "stderr",
          "text": [
            " 56%|█████▋    | 56405/100000 [00:12<00:09, 4733.07it/s]"
          ]
        },
        {
          "output_type": "stream",
          "name": "stdout",
          "text": [
            "BEST FITNESS TO DATE: 0.0\n",
            "BEST FITNESS TO DATE: 0.0\n",
            "BEST FITNESS TO DATE: 0.0\n",
            "BEST FITNESS TO DATE: 0.0\n",
            "BEST FITNESS TO DATE: 0.0\n",
            "BEST FITNESS TO DATE: 0.0\n",
            "BEST FITNESS TO DATE: 0.0\n",
            "BEST FITNESS TO DATE: 0.0\n",
            "BEST FITNESS TO DATE: 0.0\n",
            "BEST FITNESS TO DATE: 0.0\n"
          ]
        },
        {
          "output_type": "stream",
          "name": "stderr",
          "text": [
            " 57%|█████▋    | 57348/100000 [00:12<00:09, 4655.81it/s]"
          ]
        },
        {
          "output_type": "stream",
          "name": "stdout",
          "text": [
            "BEST FITNESS TO DATE: 0.0\n",
            "BEST FITNESS TO DATE: 0.0\n",
            "BEST FITNESS TO DATE: 0.0\n",
            "BEST FITNESS TO DATE: 0.0\n",
            "BEST FITNESS TO DATE: 0.0\n",
            "BEST FITNESS TO DATE: 0.0\n",
            "BEST FITNESS TO DATE: 0.0\n",
            "BEST FITNESS TO DATE: 0.0\n",
            "BEST FITNESS TO DATE: 0.0\n",
            "BEST FITNESS TO DATE: 0.0"
          ]
        },
        {
          "output_type": "stream",
          "name": "stderr",
          "text": [
            " 58%|█████▊    | 58279/100000 [00:12<00:08, 4646.26it/s]"
          ]
        },
        {
          "output_type": "stream",
          "name": "stdout",
          "text": [
            "\n",
            "BEST FITNESS TO DATE: 0.0\n",
            "BEST FITNESS TO DATE: 0.0\n",
            "BEST FITNESS TO DATE: 0.0\n",
            "BEST FITNESS TO DATE: 0.0\n",
            "BEST FITNESS TO DATE: 0.0\n",
            "BEST FITNESS TO DATE: 0.0\n",
            "BEST FITNESS TO DATE: 0.0\n",
            "BEST FITNESS TO DATE: 0.0\n",
            "BEST FITNESS TO DATE: 0.0\n"
          ]
        },
        {
          "output_type": "stream",
          "name": "stderr",
          "text": [
            " 59%|█████▉    | 59204/100000 [00:12<00:08, 4562.80it/s]"
          ]
        },
        {
          "output_type": "stream",
          "name": "stdout",
          "text": [
            "BEST FITNESS TO DATE: 0.0\n",
            "BEST FITNESS TO DATE: 0.0\n",
            "BEST FITNESS TO DATE: 0.0\n",
            "BEST FITNESS TO DATE: 0.0\n",
            "BEST FITNESS TO DATE: 0.0\n",
            "BEST FITNESS TO DATE: 0.0\n",
            "BEST FITNESS TO DATE: 0.0\n",
            "BEST FITNESS TO DATE: 0.0\n",
            "BEST FITNESS TO DATE: 0.0\n",
            "BEST FITNESS TO DATE: 0.0\n"
          ]
        },
        {
          "output_type": "stream",
          "name": "stderr",
          "text": [
            " 60%|██████    | 60137/100000 [00:13<00:08, 4573.74it/s]"
          ]
        },
        {
          "output_type": "stream",
          "name": "stdout",
          "text": [
            "BEST FITNESS TO DATE: 0.0\n",
            "BEST FITNESS TO DATE: 0.0\n",
            "BEST FITNESS TO DATE: 0.0\n",
            "BEST FITNESS TO DATE: 0.0\n",
            "BEST FITNESS TO DATE: 0.0\n",
            "BEST FITNESS TO DATE: 0.0\n",
            "BEST FITNESS TO DATE: 0.0\n",
            "BEST FITNESS TO DATE: 0.0\n",
            "BEST FITNESS TO DATE: 0.0\n",
            "BEST FITNESS TO DATE: 0.0\n"
          ]
        },
        {
          "output_type": "stream",
          "name": "stderr",
          "text": [
            " 62%|██████▏   | 61582/100000 [00:13<00:08, 4691.43it/s]"
          ]
        },
        {
          "output_type": "stream",
          "name": "stdout",
          "text": [
            "BEST FITNESS TO DATE: 0.0\n",
            "BEST FITNESS TO DATE: 0.0\n",
            "BEST FITNESS TO DATE: 0.0\n",
            "BEST FITNESS TO DATE: 0.0\n",
            "BEST FITNESS TO DATE: 0.0\n",
            "BEST FITNESS TO DATE: 0.0\n",
            "BEST FITNESS TO DATE: 0.0\n",
            "BEST FITNESS TO DATE: 0.0\n",
            "BEST FITNESS TO DATE: 0.0\n",
            "BEST FITNESS TO DATE: 0.0\n",
            "BEST FITNESS TO DATE: 0.0\n"
          ]
        },
        {
          "output_type": "stream",
          "name": "stderr",
          "text": [
            " 63%|██████▎   | 62541/100000 [00:13<00:07, 4745.13it/s]"
          ]
        },
        {
          "output_type": "stream",
          "name": "stdout",
          "text": [
            "BEST FITNESS TO DATE: 0.0\n",
            "BEST FITNESS TO DATE: 0.0\n",
            "BEST FITNESS TO DATE: 0.0\n",
            "BEST FITNESS TO DATE: 0.0\n",
            "BEST FITNESS TO DATE: 0.0\n",
            "BEST FITNESS TO DATE: 0.0\n",
            "BEST FITNESS TO DATE: 0.0\n",
            "BEST FITNESS TO DATE: 0.0\n",
            "BEST FITNESS TO DATE: 0.0\n",
            "BEST FITNESS TO DATE: 0.0\n"
          ]
        },
        {
          "output_type": "stream",
          "name": "stderr",
          "text": [
            " 64%|██████▎   | 63503/100000 [00:13<00:07, 4739.31it/s]"
          ]
        },
        {
          "output_type": "stream",
          "name": "stdout",
          "text": [
            "BEST FITNESS TO DATE: 0.0\n",
            "BEST FITNESS TO DATE: 0.0\n",
            "BEST FITNESS TO DATE: 0.0\n",
            "BEST FITNESS TO DATE: 0.0\n",
            "BEST FITNESS TO DATE: 0.0\n",
            "BEST FITNESS TO DATE: 0.0\n",
            "BEST FITNESS TO DATE: 0.0\n",
            "BEST FITNESS TO DATE: 0.0\n",
            "BEST FITNESS TO DATE: 0.0\n",
            "BEST FITNESS TO DATE: 0.0\n"
          ]
        },
        {
          "output_type": "stream",
          "name": "stderr",
          "text": [
            " 65%|██████▍   | 64520/100000 [00:13<00:07, 4929.06it/s]"
          ]
        },
        {
          "output_type": "stream",
          "name": "stdout",
          "text": [
            "BEST FITNESS TO DATE: 0.0\n",
            "BEST FITNESS TO DATE: 0.0\n",
            "BEST FITNESS TO DATE: 0.0\n",
            "BEST FITNESS TO DATE: 0.0\n",
            "BEST FITNESS TO DATE: 0.0\n",
            "BEST FITNESS TO DATE: 0.0\n",
            "BEST FITNESS TO DATE: 0.0\n",
            "BEST FITNESS TO DATE: 0.0\n",
            "BEST FITNESS TO DATE: 0.0\n",
            "BEST FITNESS TO DATE: 0.0\n",
            "BEST FITNESS TO DATE: 0.0\n"
          ]
        },
        {
          "output_type": "stream",
          "name": "stderr",
          "text": [
            " 65%|██████▌   | 65494/100000 [00:14<00:07, 4730.76it/s]"
          ]
        },
        {
          "output_type": "stream",
          "name": "stdout",
          "text": [
            "BEST FITNESS TO DATE: 0.0\n",
            "BEST FITNESS TO DATE: 0.0\n",
            "BEST FITNESS TO DATE: 0.0\n",
            "BEST FITNESS TO DATE: 0.0\n",
            "BEST FITNESS TO DATE: 0.0\n",
            "BEST FITNESS TO DATE: 0.0\n",
            "BEST FITNESS TO DATE: 0.0\n",
            "BEST FITNESS TO DATE: 0.0\n",
            "BEST FITNESS TO DATE: 0.0\n",
            "BEST FITNESS TO DATE: 0.0\n"
          ]
        },
        {
          "output_type": "stream",
          "name": "stderr",
          "text": [
            " 66%|██████▋   | 66430/100000 [00:14<00:07, 4597.66it/s]"
          ]
        },
        {
          "output_type": "stream",
          "name": "stdout",
          "text": [
            "BEST FITNESS TO DATE: 0.0\n",
            "BEST FITNESS TO DATE: 0.0\n",
            "BEST FITNESS TO DATE: 0.0\n",
            "BEST FITNESS TO DATE: 0.0\n",
            "BEST FITNESS TO DATE: 0.0\n",
            "BEST FITNESS TO DATE: 0.0\n",
            "BEST FITNESS TO DATE: 0.0\n",
            "BEST FITNESS TO DATE: 0.0\n",
            "BEST FITNESS TO DATE: 0.0\n",
            "BEST FITNESS TO DATE: 0.0\n"
          ]
        },
        {
          "output_type": "stream",
          "name": "stderr",
          "text": [
            " 67%|██████▋   | 67378/100000 [00:14<00:07, 4547.98it/s]"
          ]
        },
        {
          "output_type": "stream",
          "name": "stdout",
          "text": [
            "BEST FITNESS TO DATE: 0.0\n",
            "BEST FITNESS TO DATE: 0.0\n",
            "BEST FITNESS TO DATE: 0.0\n",
            "BEST FITNESS TO DATE: 0.0\n",
            "BEST FITNESS TO DATE: 0.0\n",
            "BEST FITNESS TO DATE: 0.0\n",
            "BEST FITNESS TO DATE: 0.0\n",
            "BEST FITNESS TO DATE: 0.0\n",
            "BEST FITNESS TO DATE: 0.0\n",
            "BEST FITNESS TO DATE: 0.0\n"
          ]
        },
        {
          "output_type": "stream",
          "name": "stderr",
          "text": [
            " 68%|██████▊   | 68305/100000 [00:14<00:06, 4589.95it/s]"
          ]
        },
        {
          "output_type": "stream",
          "name": "stdout",
          "text": [
            "BEST FITNESS TO DATE: 0.0\n",
            "BEST FITNESS TO DATE: 0.0\n",
            "BEST FITNESS TO DATE: 0.0\n",
            "BEST FITNESS TO DATE: 0.0\n",
            "BEST FITNESS TO DATE: 0.0\n",
            "BEST FITNESS TO DATE: 0.0\n",
            "BEST FITNESS TO DATE: 0.0\n",
            "BEST FITNESS TO DATE: 0.0\n",
            "BEST FITNESS TO DATE: 0.0\n",
            "BEST FITNESS TO DATE: 0.0\n"
          ]
        },
        {
          "output_type": "stream",
          "name": "stderr",
          "text": [
            " 70%|██████▉   | 69686/100000 [00:15<00:06, 4437.95it/s]"
          ]
        },
        {
          "output_type": "stream",
          "name": "stdout",
          "text": [
            "BEST FITNESS TO DATE: 0.0\n",
            "BEST FITNESS TO DATE: 0.0\n",
            "BEST FITNESS TO DATE: 0.0\n",
            "BEST FITNESS TO DATE: 0.0\n",
            "BEST FITNESS TO DATE: 0.0\n",
            "BEST FITNESS TO DATE: 0.0\n",
            "BEST FITNESS TO DATE: 0.0\n",
            "BEST FITNESS TO DATE: 0.0\n",
            "BEST FITNESS TO DATE: 0.0\n",
            "BEST FITNESS TO DATE: 0.0\n"
          ]
        },
        {
          "output_type": "stream",
          "name": "stderr",
          "text": [
            " 71%|███████   | 70598/100000 [00:15<00:06, 4449.93it/s]"
          ]
        },
        {
          "output_type": "stream",
          "name": "stdout",
          "text": [
            "BEST FITNESS TO DATE: 0.0\n",
            "BEST FITNESS TO DATE: 0.0\n",
            "BEST FITNESS TO DATE: 0.0\n",
            "BEST FITNESS TO DATE: 0.0\n",
            "BEST FITNESS TO DATE: 0.0\n",
            "BEST FITNESS TO DATE: 0.0\n",
            "BEST FITNESS TO DATE: 0.0\n",
            "BEST FITNESS TO DATE: 0.0\n",
            "BEST FITNESS TO DATE: 0.0\n",
            "BEST FITNESS TO DATE: 0.0\n"
          ]
        },
        {
          "output_type": "stream",
          "name": "stderr",
          "text": [
            " 71%|███████▏  | 71495/100000 [00:15<00:06, 4359.83it/s]"
          ]
        },
        {
          "output_type": "stream",
          "name": "stdout",
          "text": [
            "BEST FITNESS TO DATE: 0.0\n",
            "BEST FITNESS TO DATE: 0.0\n",
            "BEST FITNESS TO DATE: 0.0\n",
            "BEST FITNESS TO DATE: 0.0\n",
            "BEST FITNESS TO DATE: 0.0\n",
            "BEST FITNESS TO DATE: 0.0\n",
            "BEST FITNESS TO DATE: 0.0\n",
            "BEST FITNESS TO DATE: 0.0\n",
            "BEST FITNESS TO DATE: 0.0\n",
            "BEST FITNESS TO DATE: 0.0\n"
          ]
        },
        {
          "output_type": "stream",
          "name": "stderr",
          "text": [
            " 72%|███████▏  | 72406/100000 [00:15<00:06, 4459.23it/s]"
          ]
        },
        {
          "output_type": "stream",
          "name": "stdout",
          "text": [
            "BEST FITNESS TO DATE: 0.0\n",
            "BEST FITNESS TO DATE: 0.0\n",
            "BEST FITNESS TO DATE: 0.0\n",
            "BEST FITNESS TO DATE: 0.0\n",
            "BEST FITNESS TO DATE: 0.0\n",
            "BEST FITNESS TO DATE: 0.0\n",
            "BEST FITNESS TO DATE: 0.0\n",
            "BEST FITNESS TO DATE: 0.0\n",
            "BEST FITNESS TO DATE: 0.0\n"
          ]
        },
        {
          "output_type": "stream",
          "name": "stderr",
          "text": [
            " 73%|███████▎  | 73325/100000 [00:15<00:05, 4476.69it/s]"
          ]
        },
        {
          "output_type": "stream",
          "name": "stdout",
          "text": [
            "BEST FITNESS TO DATE: 0.0\n",
            "BEST FITNESS TO DATE: 0.0\n",
            "BEST FITNESS TO DATE: 0.0\n",
            "BEST FITNESS TO DATE: 0.0\n",
            "BEST FITNESS TO DATE: 0.0\n",
            "BEST FITNESS TO DATE: 0.0\n",
            "BEST FITNESS TO DATE: 0.0\n",
            "BEST FITNESS TO DATE: 0.0\n",
            "BEST FITNESS TO DATE: 0.0\n",
            "BEST FITNESS TO DATE: 0.0\n"
          ]
        },
        {
          "output_type": "stream",
          "name": "stderr",
          "text": [
            " 74%|███████▍  | 74266/100000 [00:16<00:05, 4588.18it/s]"
          ]
        },
        {
          "output_type": "stream",
          "name": "stdout",
          "text": [
            "BEST FITNESS TO DATE: 0.0\n",
            "BEST FITNESS TO DATE: 0.0\n",
            "BEST FITNESS TO DATE: 0.0\n",
            "BEST FITNESS TO DATE: 0.0\n",
            "BEST FITNESS TO DATE: 0.0\n",
            "BEST FITNESS TO DATE: 0.0\n",
            "BEST FITNESS TO DATE: 0.0\n",
            "BEST FITNESS TO DATE: 0.0\n",
            "BEST FITNESS TO DATE: 0.0\n",
            "BEST FITNESS TO DATE: 0.0\n"
          ]
        },
        {
          "output_type": "stream",
          "name": "stderr",
          "text": [
            " 75%|███████▌  | 75203/100000 [00:16<00:05, 4543.98it/s]"
          ]
        },
        {
          "output_type": "stream",
          "name": "stdout",
          "text": [
            "BEST FITNESS TO DATE: 0.0\n",
            "BEST FITNESS TO DATE: 0.0\n",
            "BEST FITNESS TO DATE: 0.0\n",
            "BEST FITNESS TO DATE: 0.0\n",
            "BEST FITNESS TO DATE: 0.0\n",
            "BEST FITNESS TO DATE: 0.0\n",
            "BEST FITNESS TO DATE: 0.0\n",
            "BEST FITNESS TO DATE: 0.0\n",
            "BEST FITNESS TO DATE: 0.0\n",
            "BEST FITNESS TO DATE: 0.0\n"
          ]
        },
        {
          "output_type": "stream",
          "name": "stderr",
          "text": [
            " 77%|███████▋  | 76571/100000 [00:16<00:05, 4447.77it/s]"
          ]
        },
        {
          "output_type": "stream",
          "name": "stdout",
          "text": [
            "BEST FITNESS TO DATE: 0.0\n",
            "BEST FITNESS TO DATE: 0.0\n",
            "BEST FITNESS TO DATE: 0.0\n",
            "BEST FITNESS TO DATE: 0.0\n",
            "BEST FITNESS TO DATE: 0.0\n",
            "BEST FITNESS TO DATE: 0.0\n",
            "BEST FITNESS TO DATE: 0.0\n",
            "BEST FITNESS TO DATE: 0.0\n",
            "BEST FITNESS TO DATE: 0.0\n"
          ]
        },
        {
          "output_type": "stream",
          "name": "stderr",
          "text": [
            "\r 77%|███████▋  | 77017/100000 [00:16<00:05, 4239.57it/s]"
          ]
        },
        {
          "output_type": "stream",
          "name": "stdout",
          "text": [
            "BEST FITNESS TO DATE: 0.0\n",
            "BEST FITNESS TO DATE: 0.0\n",
            "BEST FITNESS TO DATE: 0.0\n",
            "BEST FITNESS TO DATE: 0.0\n",
            "BEST FITNESS TO DATE: 0.0\n",
            "BEST FITNESS TO DATE: 0.0\n",
            "BEST FITNESS TO DATE: 0.0\n",
            "BEST FITNESS TO DATE: 0.0\n",
            "BEST FITNESS TO DATE: 0.0\n",
            "BEST FITNESS TO DATE: 0.0\n"
          ]
        },
        {
          "output_type": "stream",
          "name": "stderr",
          "text": [
            " 78%|███████▊  | 78468/100000 [00:17<00:04, 4622.12it/s]"
          ]
        },
        {
          "output_type": "stream",
          "name": "stdout",
          "text": [
            "BEST FITNESS TO DATE: 0.0\n",
            "BEST FITNESS TO DATE: 0.0\n",
            "BEST FITNESS TO DATE: 0.0\n",
            "BEST FITNESS TO DATE: 0.0\n",
            "BEST FITNESS TO DATE: 0.0\n",
            "BEST FITNESS TO DATE: 0.0\n",
            "BEST FITNESS TO DATE: 0.0\n",
            "BEST FITNESS TO DATE: 0.0\n",
            "BEST FITNESS TO DATE: 0.0\n",
            "BEST FITNESS TO DATE: 0.0\n"
          ]
        },
        {
          "output_type": "stream",
          "name": "stderr",
          "text": [
            " 79%|███████▉  | 79408/100000 [00:17<00:04, 4617.67it/s]"
          ]
        },
        {
          "output_type": "stream",
          "name": "stdout",
          "text": [
            "BEST FITNESS TO DATE: 0.0\n",
            "BEST FITNESS TO DATE: 0.0\n",
            "BEST FITNESS TO DATE: 0.0\n",
            "BEST FITNESS TO DATE: 0.0\n",
            "BEST FITNESS TO DATE: 0.0\n",
            "BEST FITNESS TO DATE: 0.0\n",
            "BEST FITNESS TO DATE: 0.0\n",
            "BEST FITNESS TO DATE: 0.0\n",
            "BEST FITNESS TO DATE: 0.0\n",
            "BEST FITNESS TO DATE: 0.0\n"
          ]
        },
        {
          "output_type": "stream",
          "name": "stderr",
          "text": [
            " 80%|████████  | 80366/100000 [00:17<00:04, 4660.72it/s]"
          ]
        },
        {
          "output_type": "stream",
          "name": "stdout",
          "text": [
            "BEST FITNESS TO DATE: 0.0\n",
            "BEST FITNESS TO DATE: 0.0\n",
            "BEST FITNESS TO DATE: 0.0\n",
            "BEST FITNESS TO DATE: 0.0\n",
            "BEST FITNESS TO DATE: 0.0\n",
            "BEST FITNESS TO DATE: 0.0\n",
            "BEST FITNESS TO DATE: 0.0\n",
            "BEST FITNESS TO DATE: 0.0\n",
            "BEST FITNESS TO DATE: 0.0\n",
            "BEST FITNESS TO DATE: 0.0\n"
          ]
        },
        {
          "output_type": "stream",
          "name": "stderr",
          "text": [
            " 81%|████████▏ | 81314/100000 [00:17<00:04, 4545.94it/s]"
          ]
        },
        {
          "output_type": "stream",
          "name": "stdout",
          "text": [
            "BEST FITNESS TO DATE: 0.0\n",
            "BEST FITNESS TO DATE: 0.0\n",
            "BEST FITNESS TO DATE: 0.0\n",
            "BEST FITNESS TO DATE: 0.0\n",
            "BEST FITNESS TO DATE: 0.0\n",
            "BEST FITNESS TO DATE: 0.0\n",
            "BEST FITNESS TO DATE: 0.0\n",
            "BEST FITNESS TO DATE: 0.0\n",
            "BEST FITNESS TO DATE: 0.0\n",
            "BEST FITNESS TO DATE: 0.0\n"
          ]
        },
        {
          "output_type": "stream",
          "name": "stderr",
          "text": [
            " 82%|████████▏ | 82250/100000 [00:17<00:03, 4566.23it/s]"
          ]
        },
        {
          "output_type": "stream",
          "name": "stdout",
          "text": [
            "BEST FITNESS TO DATE: 0.0\n",
            "BEST FITNESS TO DATE: 0.0\n",
            "BEST FITNESS TO DATE: 0.0\n",
            "BEST FITNESS TO DATE: 0.0\n",
            "BEST FITNESS TO DATE: 0.0\n",
            "BEST FITNESS TO DATE: 0.0\n",
            "BEST FITNESS TO DATE: 0.0\n",
            "BEST FITNESS TO DATE: 0.0\n",
            "BEST FITNESS TO DATE: 0.0\n",
            "BEST FITNESS TO DATE: 0.0\n"
          ]
        },
        {
          "output_type": "stream",
          "name": "stderr",
          "text": [
            " 83%|████████▎ | 83209/100000 [00:18<00:03, 4694.92it/s]"
          ]
        },
        {
          "output_type": "stream",
          "name": "stdout",
          "text": [
            "BEST FITNESS TO DATE: 0.0\n",
            "BEST FITNESS TO DATE: 0.0\n",
            "BEST FITNESS TO DATE: 0.0\n",
            "BEST FITNESS TO DATE: 0.0\n",
            "BEST FITNESS TO DATE: 0.0\n",
            "BEST FITNESS TO DATE: 0.0\n",
            "BEST FITNESS TO DATE: 0.0\n",
            "BEST FITNESS TO DATE: 0.0\n",
            "BEST FITNESS TO DATE: 0.0\n",
            "BEST FITNESS TO DATE: 0.0\n"
          ]
        },
        {
          "output_type": "stream",
          "name": "stderr",
          "text": [
            " 84%|████████▍ | 84182/100000 [00:18<00:03, 4757.50it/s]"
          ]
        },
        {
          "output_type": "stream",
          "name": "stdout",
          "text": [
            "BEST FITNESS TO DATE: 0.0\n",
            "BEST FITNESS TO DATE: 0.0\n",
            "BEST FITNESS TO DATE: 0.0\n",
            "BEST FITNESS TO DATE: 0.0\n",
            "BEST FITNESS TO DATE: 0.0\n",
            "BEST FITNESS TO DATE: 0.0\n",
            "BEST FITNESS TO DATE: 0.0\n",
            "BEST FITNESS TO DATE: 0.0\n",
            "BEST FITNESS TO DATE: 0.0\n",
            "BEST FITNESS TO DATE: 0.0\n"
          ]
        },
        {
          "output_type": "stream",
          "name": "stderr",
          "text": [
            " 85%|████████▌ | 85139/100000 [00:18<00:03, 4730.11it/s]"
          ]
        },
        {
          "output_type": "stream",
          "name": "stdout",
          "text": [
            "BEST FITNESS TO DATE: 0.0\n",
            "BEST FITNESS TO DATE: 0.0\n",
            "BEST FITNESS TO DATE: 0.0\n",
            "BEST FITNESS TO DATE: 0.0\n",
            "BEST FITNESS TO DATE: 0.0\n",
            "BEST FITNESS TO DATE: 0.0\n",
            "BEST FITNESS TO DATE: 0.0\n",
            "BEST FITNESS TO DATE: 0.0\n",
            "BEST FITNESS TO DATE: 0.0\n",
            "BEST FITNESS TO DATE: 0.0\n"
          ]
        },
        {
          "output_type": "stream",
          "name": "stderr",
          "text": [
            " 86%|████████▌ | 86103/100000 [00:18<00:03, 4590.26it/s]"
          ]
        },
        {
          "output_type": "stream",
          "name": "stdout",
          "text": [
            "BEST FITNESS TO DATE: 0.0\n",
            "BEST FITNESS TO DATE: 0.0\n",
            "BEST FITNESS TO DATE: 0.0\n",
            "BEST FITNESS TO DATE: 0.0\n",
            "BEST FITNESS TO DATE: 0.0\n",
            "BEST FITNESS TO DATE: 0.0\n",
            "BEST FITNESS TO DATE: 0.0\n",
            "BEST FITNESS TO DATE: 0.0\n",
            "BEST FITNESS TO DATE: 0.0\n",
            "BEST FITNESS TO DATE: 0.0\n"
          ]
        },
        {
          "output_type": "stream",
          "name": "stderr",
          "text": [
            " 88%|████████▊ | 87509/100000 [00:19<00:02, 4568.57it/s]"
          ]
        },
        {
          "output_type": "stream",
          "name": "stdout",
          "text": [
            "BEST FITNESS TO DATE: 0.0\n",
            "BEST FITNESS TO DATE: 0.0\n",
            "BEST FITNESS TO DATE: 0.0\n",
            "BEST FITNESS TO DATE: 0.0\n",
            "BEST FITNESS TO DATE: 0.0\n",
            "BEST FITNESS TO DATE: 0.0\n",
            "BEST FITNESS TO DATE: 0.0\n",
            "BEST FITNESS TO DATE: 0.0\n",
            "BEST FITNESS TO DATE: 0.0\n",
            "BEST FITNESS TO DATE: 0.0\n"
          ]
        },
        {
          "output_type": "stream",
          "name": "stderr",
          "text": [
            " 88%|████████▊ | 88427/100000 [00:19<00:02, 4448.40it/s]"
          ]
        },
        {
          "output_type": "stream",
          "name": "stdout",
          "text": [
            "BEST FITNESS TO DATE: 0.0\n",
            "BEST FITNESS TO DATE: 0.0\n",
            "BEST FITNESS TO DATE: 0.0\n",
            "BEST FITNESS TO DATE: 0.0\n",
            "BEST FITNESS TO DATE: 0.0\n",
            "BEST FITNESS TO DATE: 0.0\n",
            "BEST FITNESS TO DATE: 0.0\n",
            "BEST FITNESS TO DATE: 0.0\n",
            "BEST FITNESS TO DATE: 0.0\n"
          ]
        },
        {
          "output_type": "stream",
          "name": "stderr",
          "text": [
            " 89%|████████▉ | 89366/100000 [00:19<00:02, 4561.00it/s]"
          ]
        },
        {
          "output_type": "stream",
          "name": "stdout",
          "text": [
            "BEST FITNESS TO DATE: 0.0\n",
            "BEST FITNESS TO DATE: 0.0\n",
            "BEST FITNESS TO DATE: 0.0\n",
            "BEST FITNESS TO DATE: 0.0\n",
            "BEST FITNESS TO DATE: 0.0\n",
            "BEST FITNESS TO DATE: 0.0\n",
            "BEST FITNESS TO DATE: 0.0\n",
            "BEST FITNESS TO DATE: 0.0\n",
            "BEST FITNESS TO DATE: 0.0\n",
            "BEST FITNESS TO DATE: 0.0\n"
          ]
        },
        {
          "output_type": "stream",
          "name": "stderr",
          "text": [
            " 90%|█████████ | 90278/100000 [00:19<00:02, 4447.57it/s]"
          ]
        },
        {
          "output_type": "stream",
          "name": "stdout",
          "text": [
            "BEST FITNESS TO DATE: 0.0\n",
            "BEST FITNESS TO DATE: 0.0\n",
            "BEST FITNESS TO DATE: 0.0\n",
            "BEST FITNESS TO DATE: 0.0\n",
            "BEST FITNESS TO DATE: 0.0\n",
            "BEST FITNESS TO DATE: 0.0\n",
            "BEST FITNESS TO DATE: 0.0\n",
            "BEST FITNESS TO DATE: 0.0\n",
            "BEST FITNESS TO DATE: 0.0\n"
          ]
        },
        {
          "output_type": "stream",
          "name": "stderr",
          "text": [
            " 91%|█████████ | 91182/100000 [00:19<00:02, 4401.12it/s]"
          ]
        },
        {
          "output_type": "stream",
          "name": "stdout",
          "text": [
            "BEST FITNESS TO DATE: 0.0\n",
            "BEST FITNESS TO DATE: 0.0\n",
            "BEST FITNESS TO DATE: 0.0\n",
            "BEST FITNESS TO DATE: 0.0\n",
            "BEST FITNESS TO DATE: 0.0\n",
            "BEST FITNESS TO DATE: 0.0\n",
            "BEST FITNESS TO DATE: 0.0\n",
            "BEST FITNESS TO DATE: 0.0\n",
            "BEST FITNESS TO DATE: 0.0\n"
          ]
        },
        {
          "output_type": "stream",
          "name": "stderr",
          "text": [
            " 92%|█████████▏| 92102/100000 [00:20<00:01, 4467.51it/s]"
          ]
        },
        {
          "output_type": "stream",
          "name": "stdout",
          "text": [
            "BEST FITNESS TO DATE: 0.0\n",
            "BEST FITNESS TO DATE: 0.0\n",
            "BEST FITNESS TO DATE: 0.0\n",
            "BEST FITNESS TO DATE: 0.0\n",
            "BEST FITNESS TO DATE: 0.0\n",
            "BEST FITNESS TO DATE: 0.0\n",
            "BEST FITNESS TO DATE: 0.0\n",
            "BEST FITNESS TO DATE: 0.0\n",
            "BEST FITNESS TO DATE: 0.0\n",
            "BEST FITNESS TO DATE: 0.0\n"
          ]
        },
        {
          "output_type": "stream",
          "name": "stderr",
          "text": [
            " 93%|█████████▎| 93061/100000 [00:20<00:01, 4638.47it/s]"
          ]
        },
        {
          "output_type": "stream",
          "name": "stdout",
          "text": [
            "BEST FITNESS TO DATE: 0.0\n",
            "BEST FITNESS TO DATE: 0.0\n",
            "BEST FITNESS TO DATE: 0.0\n",
            "BEST FITNESS TO DATE: 0.0\n",
            "BEST FITNESS TO DATE: 0.0\n",
            "BEST FITNESS TO DATE: 0.0\n",
            "BEST FITNESS TO DATE: 0.0\n",
            "BEST FITNESS TO DATE: 0.0\n",
            "BEST FITNESS TO DATE: 0.0\n",
            "BEST FITNESS TO DATE: 0.0\n"
          ]
        },
        {
          "output_type": "stream",
          "name": "stderr",
          "text": [
            " 94%|█████████▍| 93985/100000 [00:20<00:01, 4582.33it/s]"
          ]
        },
        {
          "output_type": "stream",
          "name": "stdout",
          "text": [
            "BEST FITNESS TO DATE: 0.0\n",
            "BEST FITNESS TO DATE: 0.0\n",
            "BEST FITNESS TO DATE: 0.0\n",
            "BEST FITNESS TO DATE: 0.0\n",
            "BEST FITNESS TO DATE: 0.0\n",
            "BEST FITNESS TO DATE: 0.0\n",
            "BEST FITNESS TO DATE: 0.0\n",
            "BEST FITNESS TO DATE: 0.0\n",
            "BEST FITNESS TO DATE: 0.0\n",
            "BEST FITNESS TO DATE: 0.0\n"
          ]
        },
        {
          "output_type": "stream",
          "name": "stderr",
          "text": [
            " 95%|█████████▍| 94907/100000 [00:20<00:01, 4534.53it/s]"
          ]
        },
        {
          "output_type": "stream",
          "name": "stdout",
          "text": [
            "BEST FITNESS TO DATE: 0.0\n",
            "BEST FITNESS TO DATE: 0.0\n",
            "BEST FITNESS TO DATE: 0.0\n",
            "BEST FITNESS TO DATE: 0.0\n",
            "BEST FITNESS TO DATE: 0.0\n",
            "BEST FITNESS TO DATE: 0.0\n",
            "BEST FITNESS TO DATE: 0.0\n",
            "BEST FITNESS TO DATE: 0.0\n",
            "BEST FITNESS TO DATE: 0.0\n",
            "BEST FITNESS TO DATE: 0.0\n"
          ]
        },
        {
          "output_type": "stream",
          "name": "stderr",
          "text": [
            " 96%|█████████▌| 95905/100000 [00:20<00:00, 4784.22it/s]"
          ]
        },
        {
          "output_type": "stream",
          "name": "stdout",
          "text": [
            "BEST FITNESS TO DATE: 0.0\n",
            "BEST FITNESS TO DATE: 0.0\n",
            "BEST FITNESS TO DATE: 0.0\n",
            "BEST FITNESS TO DATE: 0.0\n",
            "BEST FITNESS TO DATE: 0.0\n",
            "BEST FITNESS TO DATE: 0.0\n",
            "BEST FITNESS TO DATE: 0.0\n",
            "BEST FITNESS TO DATE: 0.0\n",
            "BEST FITNESS TO DATE: 0.0\n",
            "BEST FITNESS TO DATE: 0.0\n",
            "BEST FITNESS TO DATE: 0.0\n"
          ]
        },
        {
          "output_type": "stream",
          "name": "stderr",
          "text": [
            " 97%|█████████▋| 96909/100000 [00:21<00:00, 4919.22it/s]"
          ]
        },
        {
          "output_type": "stream",
          "name": "stdout",
          "text": [
            "BEST FITNESS TO DATE: 0.0\n",
            "BEST FITNESS TO DATE: 0.0\n",
            "BEST FITNESS TO DATE: 0.0\n",
            "BEST FITNESS TO DATE: 0.0\n",
            "BEST FITNESS TO DATE: 0.0\n",
            "BEST FITNESS TO DATE: 0.0\n",
            "BEST FITNESS TO DATE: 0.0\n",
            "BEST FITNESS TO DATE: 0.0\n",
            "BEST FITNESS TO DATE: 0.0\n",
            "BEST FITNESS TO DATE: 0.0\n",
            "BEST FITNESS TO DATE: 0.0"
          ]
        },
        {
          "output_type": "stream",
          "name": "stderr",
          "text": [
            " 98%|█████████▊| 97895/100000 [00:21<00:00, 4845.82it/s]"
          ]
        },
        {
          "output_type": "stream",
          "name": "stdout",
          "text": [
            "\n",
            "BEST FITNESS TO DATE: 0.0\n",
            "BEST FITNESS TO DATE: 0.0\n",
            "BEST FITNESS TO DATE: 0.0\n",
            "BEST FITNESS TO DATE: 0.0\n",
            "BEST FITNESS TO DATE: 0.0\n",
            "BEST FITNESS TO DATE: 0.0\n",
            "BEST FITNESS TO DATE: 0.0\n",
            "BEST FITNESS TO DATE: 0.0\n",
            "BEST FITNESS TO DATE: 0.0\n"
          ]
        },
        {
          "output_type": "stream",
          "name": "stderr",
          "text": [
            " 99%|█████████▉| 99375/100000 [00:21<00:00, 4848.21it/s]"
          ]
        },
        {
          "output_type": "stream",
          "name": "stdout",
          "text": [
            "BEST FITNESS TO DATE: 0.0\n",
            "BEST FITNESS TO DATE: 0.0\n",
            "BEST FITNESS TO DATE: 0.0\n",
            "BEST FITNESS TO DATE: 0.0\n",
            "BEST FITNESS TO DATE: 0.0\n",
            "BEST FITNESS TO DATE: 0.0\n",
            "BEST FITNESS TO DATE: 0.0\n",
            "BEST FITNESS TO DATE: 0.0\n",
            "BEST FITNESS TO DATE: 0.0\n",
            "BEST FITNESS TO DATE: 0.0\n",
            "BEST FITNESS TO DATE: 0.0\n"
          ]
        },
        {
          "output_type": "stream",
          "name": "stderr",
          "text": [
            "100%|██████████| 100000/100000 [00:21<00:00, 4585.87it/s]"
          ]
        },
        {
          "output_type": "stream",
          "name": "stdout",
          "text": [
            "BEST FITNESS TO DATE: 0.0\n",
            "BEST FITNESS TO DATE: 0.0\n",
            "BEST FITNESS TO DATE: 0.0\n",
            "BEST FITNESS TO DATE: 0.0\n",
            "BEST FITNESS TO DATE: 0.0\n"
          ]
        },
        {
          "output_type": "stream",
          "name": "stderr",
          "text": [
            "\n"
          ]
        }
      ]
    },
    {
      "cell_type": "code",
      "source": [
        "final_genome = sorted(final_genome, key=lambda x:x[0], reverse=True )\n",
        "print(len(final_genome))\n",
        "print(final_genome[0][0])\n",
        "print(final_genome[-1][0])\n",
        "\n",
        "print(final_genome[-1][1])\n"
      ],
      "metadata": {
        "id": "gd4N3p47kSi8",
        "colab": {
          "base_uri": "https://localhost:8080/"
        },
        "outputId": "4d5c26c0-54b1-481a-bc1e-5690e6691ecd"
      },
      "execution_count": 124,
      "outputs": [
        {
          "output_type": "stream",
          "name": "stdout",
          "text": [
            "100\n",
            "243969.88150116918\n",
            "0.0\n",
            "(array([[6],\n",
            "       [7],\n",
            "       [3]]), array([ 1.50000000e+02,  3.00000000e+02,  2.00000000e+00,  5.40507743e-01,\n",
            "        3.00000000e+02, -2.20966193e-02]), array([[4, 5],\n",
            "       [0, 2],\n",
            "       [1, 2]]), array([[0],\n",
            "       [3],\n",
            "       [0]]))\n"
          ]
        }
      ]
    },
    {
      "cell_type": "code",
      "source": [
        "for i in range(100):\n",
        "    print(final_genome[i][0])"
      ],
      "metadata": {
        "id": "MuQ51BA1xY_R",
        "colab": {
          "base_uri": "https://localhost:8080/"
        },
        "outputId": "a37f21a7-7d69-4375-8dc1-2571e6cfddeb"
      },
      "execution_count": 108,
      "outputs": [
        {
          "output_type": "stream",
          "name": "stdout",
          "text": [
            "nan\n",
            "17395.093126272488\n",
            "12339.16761643086\n",
            "7933.552250495317\n",
            "5329.043577786344\n",
            "5299.966510211198\n",
            "3059.092110187278\n",
            "3016.809330857939\n",
            "3001.226299295211\n",
            "2992.6950124337\n",
            "2938.981818181818\n",
            "2879.3371209534616\n",
            "2859.957923772836\n",
            "2845.871031583365\n",
            "2842.2707648493893\n",
            "2812.2184775222213\n",
            "2811.846892842286\n",
            "2687.185723297998\n",
            "2683.7006096731366\n",
            "2675.577549137384\n",
            "2674.7401594530456\n",
            "2670.370079726523\n",
            "2666.096337251728\n",
            "2665.879763892415\n",
            "2664.2528361965806\n",
            "2664.0\n",
            "2663.0632250856866\n",
            "2663.043577786344\n",
            "2662.3628102926973\n",
            "2662.0\n",
            "2662.0\n",
            "2660.8907956675707\n",
            "2656.623048313804\n",
            "2648.665896949389\n",
            "2644.8129832375134\n",
            "2638.3853967875752\n",
            "2634.0606106107343\n",
            "2634.0000000000005\n",
            "2634.0000000000005\n",
            "2634.0\n",
            "2634.0\n",
            "2634.0\n",
            "2634.0\n",
            "2634.0\n",
            "2634.0\n",
            "2634.0\n",
            "2634.0\n",
            "2634.0\n",
            "2634.0\n",
            "2634.0\n",
            "2634.0\n",
            "2634.0\n",
            "2634.0\n",
            "2633.9999999999995\n",
            "2633.9999999999995\n",
            "2633.9999999999995\n",
            "2633.9999999999995\n",
            "2633.9999999999995\n",
            "2626.485687648524\n",
            "2625.17265188028\n",
            "2548.1520522394826\n",
            "2469.1470850332207\n",
            "0.0\n",
            "0.0\n",
            "0.0\n",
            "0.0\n",
            "0.0\n",
            "0.0\n",
            "0.0\n",
            "0.0\n",
            "0.0\n",
            "0.0\n",
            "0.0\n",
            "0.0\n",
            "0.0\n",
            "0.0\n",
            "0.0\n",
            "0.0\n",
            "0.0\n",
            "0.0\n",
            "0.0\n",
            "0.0\n",
            "0.0\n",
            "0.0\n",
            "0.0\n",
            "0.0\n",
            "0.0\n",
            "0.0\n",
            "0.0\n",
            "0.0\n",
            "0.0\n",
            "0.0\n",
            "0.0\n",
            "0.0\n",
            "0.0\n",
            "0.0\n",
            "0.0\n",
            "0.0\n",
            "0.0\n",
            "0.0\n"
          ]
        }
      ]
    },
    {
      "cell_type": "code",
      "source": [
        "type(sorted(np.array([i for i in range(100)]))[:10])"
      ],
      "metadata": {
        "colab": {
          "base_uri": "https://localhost:8080/"
        },
        "id": "8bgCuXOwppYo",
        "outputId": "fb672ba8-5977-405c-c9b3-3186bb6b6db6"
      },
      "execution_count": null,
      "outputs": [
        {
          "output_type": "execute_result",
          "data": {
            "text/plain": [
              "list"
            ]
          },
          "metadata": {},
          "execution_count": 97
        }
      ]
    },
    {
      "cell_type": "code",
      "source": [
        "len(initialialize_population(population_count = POPULATION_COUNT, op_depth = OP_DEPTH, memory_size = MEMORY_SIZE , OP_dict = OP_dict,max_arg = 2))"
      ],
      "metadata": {
        "colab": {
          "base_uri": "https://localhost:8080/"
        },
        "id": "kn7jJ0S2naxM",
        "outputId": "08b1b4e1-eef2-4fe8-c3c4-1016a8f411bb"
      },
      "execution_count": null,
      "outputs": [
        {
          "output_type": "stream",
          "name": "stderr",
          "text": [
            "/usr/local/lib/python3.7/dist-packages/ipykernel_launcher.py:19: VisibleDeprecationWarning: Creating an ndarray from ragged nested sequences (which is a list-or-tuple of lists-or-tuples-or ndarrays with different lengths or shapes) is deprecated. If you meant to do this, you must specify 'dtype=object' when creating the ndarray\n"
          ]
        },
        {
          "output_type": "execute_result",
          "data": {
            "text/plain": [
              "10000"
            ]
          },
          "metadata": {},
          "execution_count": 76
        }
      ]
    }
  ]
}